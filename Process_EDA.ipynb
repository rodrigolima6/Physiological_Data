{
 "cells": [
  {
   "cell_type": "code",
   "execution_count": 8,
   "id": "f139c321",
   "metadata": {},
   "outputs": [
    {
     "name": "stdout",
     "output_type": "stream",
     "text": [
      "[ 87551  87552  87553 ... 598493 598494 598495]\n",
      "[111249 111250 111251 ... 598493 598494 598495]\n",
      "[132813 132814 132815 ... 598493 598494 598495]\n",
      "[153487 153488 153489 ... 598493 598494 598495]\n",
      "[173958 173959 173960 ... 598493 598494 598495]\n",
      "[194083 194084 194085 ... 598493 598494 598495]\n",
      "[217303 217304 217305 ... 598493 598494 598495]\n",
      "[239196 239197 239198 ... 598493 598494 598495]\n",
      "[259866 259867 259868 ... 598493 598494 598495]\n",
      "[279137 279138 279139 ... 598493 598494 598495]\n",
      "[298045 298046 298047 ... 598493 598494 598495]\n",
      "[319162 319163 319164 ... 598493 598494 598495]\n",
      "[339280 339281 339282 ... 598493 598494 598495]\n",
      "[358391 358392 358393 ... 598493 598494 598495]\n",
      "[379544 379545 379546 ... 598493 598494 598495]\n",
      "[400018 400019 400020 ... 598493 598494 598495]\n",
      "[420245 420246 420247 ... 598493 598494 598495]\n",
      "[442673 442674 442675 ... 598493 598494 598495]\n",
      "[463244 463245 463246 ... 598493 598494 598495]\n",
      "[483139 483140 483141 ... 598493 598494 598495]\n",
      "[503373 503374 503375 ... 598493 598494 598495]\n",
      "[523008 523009 523010 ... 598493 598494 598495]\n",
      "[542693 542694 542695 ... 598493 598494 598495]\n",
      "[562500 562501 562502 ... 598493 598494 598495]\n",
      "[580522 580523 580524 ... 598493 598494 598495]\n",
      "Using matplotlib backend: Qt5Agg\n"
     ]
    }
   ],
   "source": [
    "%run Load_Data.ipynb import *\n",
    "from Process_Features import *"
   ]
  },
  {
   "cell_type": "code",
   "execution_count": 6,
   "id": "7c8ea2f7",
   "metadata": {},
   "outputs": [
    {
     "name": "stderr",
     "output_type": "stream",
     "text": [
      "C:\\ProgramData\\Anaconda3\\envs\\1st Study\\lib\\site-packages\\scipy\\signal\\spectral.py:1963: UserWarning: nperseg = 128 is greater than input length  = 4, using nperseg = 4\n",
      "  .format(nperseg, input_length))\n",
      "C:\\Users\\Rodrigo\\Desktop\\PhD\\1st Study\\Physiological_Data\\lib\\sensors.py:107: RuntimeWarning: invalid value encountered in double_scalars\n",
      "  lf_norm = round(lf / (total_power - vlf) * 100, 2)\n",
      "C:\\Users\\Rodrigo\\Desktop\\PhD\\1st Study\\Physiological_Data\\lib\\sensors.py:108: RuntimeWarning: invalid value encountered in double_scalars\n",
      "  hf_norm = round(hf / (total_power - vlf) * 100, 2)\n"
     ]
    },
    {
     "data": {
      "text/html": [
       "<div>\n",
       "<style scoped>\n",
       "    .dataframe tbody tr th:only-of-type {\n",
       "        vertical-align: middle;\n",
       "    }\n",
       "\n",
       "    .dataframe tbody tr th {\n",
       "        vertical-align: top;\n",
       "    }\n",
       "\n",
       "    .dataframe thead th {\n",
       "        text-align: right;\n",
       "    }\n",
       "</style>\n",
       "<table border=\"1\" class=\"dataframe\">\n",
       "  <thead>\n",
       "    <tr style=\"text-align: right;\">\n",
       "      <th></th>\n",
       "      <th>Phasic_AVG</th>\n",
       "      <th>Phasic_MAX</th>\n",
       "      <th>Phasic_MIN</th>\n",
       "      <th>Phasic_STD</th>\n",
       "      <th>Tonic_AVG</th>\n",
       "      <th>Tonic_MAX</th>\n",
       "      <th>Tonic_MIN</th>\n",
       "      <th>Tonic_STD</th>\n",
       "      <th>SCR_Amp_AVG</th>\n",
       "      <th>SCR_Amp_MAX</th>\n",
       "      <th>...</th>\n",
       "      <th>SCR_Rect_MAX</th>\n",
       "      <th>SCR_Rect_MIN</th>\n",
       "      <th>SCR_Rect_STD</th>\n",
       "      <th>VLF Power</th>\n",
       "      <th>LF Power</th>\n",
       "      <th>HF Power</th>\n",
       "      <th>Total Power</th>\n",
       "      <th>LF (nu)</th>\n",
       "      <th>HF (nu)</th>\n",
       "      <th>LF/HF</th>\n",
       "    </tr>\n",
       "  </thead>\n",
       "  <tbody>\n",
       "    <tr>\n",
       "      <th>0</th>\n",
       "      <td>0.000153</td>\n",
       "      <td>0.007628</td>\n",
       "      <td>-0.001428</td>\n",
       "      <td>0.001353</td>\n",
       "      <td>2.115525</td>\n",
       "      <td>2.1166</td>\n",
       "      <td>2.115061</td>\n",
       "      <td>0.000466</td>\n",
       "      <td>0.001843</td>\n",
       "      <td>0.001843</td>\n",
       "      <td>...</td>\n",
       "      <td>0.317</td>\n",
       "      <td>0.317</td>\n",
       "      <td>0.0</td>\n",
       "      <td>0.0</td>\n",
       "      <td>0.0</td>\n",
       "      <td>0.0</td>\n",
       "      <td>0.0</td>\n",
       "      <td>NaN</td>\n",
       "      <td>NaN</td>\n",
       "      <td>NaN</td>\n",
       "    </tr>\n",
       "  </tbody>\n",
       "</table>\n",
       "<p>1 rows × 27 columns</p>\n",
       "</div>"
      ],
      "text/plain": [
       "   Phasic_AVG  Phasic_MAX  Phasic_MIN  Phasic_STD  Tonic_AVG  Tonic_MAX  \\\n",
       "0    0.000153    0.007628   -0.001428    0.001353   2.115525     2.1166   \n",
       "\n",
       "   Tonic_MIN  Tonic_STD  SCR_Amp_AVG  SCR_Amp_MAX  ...  SCR_Rect_MAX  \\\n",
       "0   2.115061   0.000466     0.001843     0.001843  ...         0.317   \n",
       "\n",
       "   SCR_Rect_MIN  SCR_Rect_STD  VLF Power  LF Power  HF Power  Total Power  \\\n",
       "0         0.317           0.0        0.0       0.0       0.0          0.0   \n",
       "\n",
       "   LF (nu)  HF (nu)  LF/HF  \n",
       "0      NaN      NaN    NaN  \n",
       "\n",
       "[1 rows x 27 columns]"
      ]
     },
     "execution_count": 6,
     "metadata": {},
     "output_type": "execute_result"
    }
   ],
   "source": [
    "EDA_Dataframe = Process_EDA(CH2[0:4000],fs,16)\n",
    "EDA_Dataframe"
   ]
  },
  {
   "cell_type": "code",
   "execution_count": null,
   "id": "4cb9dbbb",
   "metadata": {},
   "outputs": [],
   "source": []
  }
 ],
 "metadata": {
  "kernelspec": {
   "display_name": "Python 3",
   "language": "python",
   "name": "python3"
  },
  "language_info": {
   "codemirror_mode": {
    "name": "ipython",
    "version": 3
   },
   "file_extension": ".py",
   "mimetype": "text/x-python",
   "name": "python",
   "nbconvert_exporter": "python",
   "pygments_lexer": "ipython3",
   "version": "3.7.10"
  }
 },
 "nbformat": 4,
 "nbformat_minor": 5
}
