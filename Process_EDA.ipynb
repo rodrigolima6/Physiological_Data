{
 "cells": [
  {
   "cell_type": "code",
   "execution_count": 11,
   "id": "b976e866",
   "metadata": {},
   "outputs": [
    {
     "name": "stdout",
     "output_type": "stream",
     "text": [
      "Using matplotlib backend: Qt5Agg\n"
     ]
    }
   ],
   "source": [
    "%run Load_Data.ipynb import *\n",
    "from biosppy.signals.eda import *\n",
    "from Process_Features import *"
   ]
  },
  {
   "cell_type": "code",
   "execution_count": 9,
   "id": "68d064a9",
   "metadata": {},
   "outputs": [],
   "source": [
    "signals, info = nk.eda_process(CH2,fs,method=\"neurokit\")"
   ]
  },
  {
   "cell_type": "code",
   "execution_count": 10,
   "id": "5ff5e7f5",
   "metadata": {},
   "outputs": [
    {
     "data": {
      "text/html": [
       "<div>\n",
       "<style scoped>\n",
       "    .dataframe tbody tr th:only-of-type {\n",
       "        vertical-align: middle;\n",
       "    }\n",
       "\n",
       "    .dataframe tbody tr th {\n",
       "        vertical-align: top;\n",
       "    }\n",
       "\n",
       "    .dataframe thead th {\n",
       "        text-align: right;\n",
       "    }\n",
       "</style>\n",
       "<table border=\"1\" class=\"dataframe\">\n",
       "  <thead>\n",
       "    <tr style=\"text-align: right;\">\n",
       "      <th></th>\n",
       "      <th>EDA_Raw</th>\n",
       "      <th>EDA_Clean</th>\n",
       "      <th>EDA_Tonic</th>\n",
       "      <th>EDA_Phasic</th>\n",
       "      <th>SCR_Onsets</th>\n",
       "      <th>SCR_Peaks</th>\n",
       "      <th>SCR_Height</th>\n",
       "      <th>SCR_Amplitude</th>\n",
       "      <th>SCR_RiseTime</th>\n",
       "      <th>SCR_Recovery</th>\n",
       "      <th>SCR_RecoveryTime</th>\n",
       "    </tr>\n",
       "  </thead>\n",
       "  <tbody>\n",
       "    <tr>\n",
       "      <th>0</th>\n",
       "      <td>4.9988</td>\n",
       "      <td>4.996449</td>\n",
       "      <td>4.999556</td>\n",
       "      <td>-0.003107</td>\n",
       "      <td>0</td>\n",
       "      <td>0</td>\n",
       "      <td>0.0</td>\n",
       "      <td>0.0</td>\n",
       "      <td>0.0</td>\n",
       "      <td>0</td>\n",
       "      <td>0.0</td>\n",
       "    </tr>\n",
       "    <tr>\n",
       "      <th>1</th>\n",
       "      <td>4.9812</td>\n",
       "      <td>4.996404</td>\n",
       "      <td>4.999581</td>\n",
       "      <td>-0.003178</td>\n",
       "      <td>0</td>\n",
       "      <td>0</td>\n",
       "      <td>0.0</td>\n",
       "      <td>0.0</td>\n",
       "      <td>0.0</td>\n",
       "      <td>0</td>\n",
       "      <td>0.0</td>\n",
       "    </tr>\n",
       "    <tr>\n",
       "      <th>2</th>\n",
       "      <td>5.0144</td>\n",
       "      <td>4.996358</td>\n",
       "      <td>4.999607</td>\n",
       "      <td>-0.003249</td>\n",
       "      <td>0</td>\n",
       "      <td>0</td>\n",
       "      <td>0.0</td>\n",
       "      <td>0.0</td>\n",
       "      <td>0.0</td>\n",
       "      <td>0</td>\n",
       "      <td>0.0</td>\n",
       "    </tr>\n",
       "    <tr>\n",
       "      <th>3</th>\n",
       "      <td>4.9953</td>\n",
       "      <td>4.996311</td>\n",
       "      <td>4.999632</td>\n",
       "      <td>-0.003321</td>\n",
       "      <td>0</td>\n",
       "      <td>0</td>\n",
       "      <td>0.0</td>\n",
       "      <td>0.0</td>\n",
       "      <td>0.0</td>\n",
       "      <td>0</td>\n",
       "      <td>0.0</td>\n",
       "    </tr>\n",
       "    <tr>\n",
       "      <th>4</th>\n",
       "      <td>4.9927</td>\n",
       "      <td>4.996264</td>\n",
       "      <td>4.999657</td>\n",
       "      <td>-0.003393</td>\n",
       "      <td>0</td>\n",
       "      <td>0</td>\n",
       "      <td>0.0</td>\n",
       "      <td>0.0</td>\n",
       "      <td>0.0</td>\n",
       "      <td>0</td>\n",
       "      <td>0.0</td>\n",
       "    </tr>\n",
       "    <tr>\n",
       "      <th>...</th>\n",
       "      <td>...</td>\n",
       "      <td>...</td>\n",
       "      <td>...</td>\n",
       "      <td>...</td>\n",
       "      <td>...</td>\n",
       "      <td>...</td>\n",
       "      <td>...</td>\n",
       "      <td>...</td>\n",
       "      <td>...</td>\n",
       "      <td>...</td>\n",
       "      <td>...</td>\n",
       "    </tr>\n",
       "    <tr>\n",
       "      <th>2673723</th>\n",
       "      <td>2.4525</td>\n",
       "      <td>2.456700</td>\n",
       "      <td>2.456085</td>\n",
       "      <td>0.000006</td>\n",
       "      <td>0</td>\n",
       "      <td>0</td>\n",
       "      <td>0.0</td>\n",
       "      <td>0.0</td>\n",
       "      <td>0.0</td>\n",
       "      <td>0</td>\n",
       "      <td>0.0</td>\n",
       "    </tr>\n",
       "    <tr>\n",
       "      <th>2673724</th>\n",
       "      <td>2.4406</td>\n",
       "      <td>2.456700</td>\n",
       "      <td>2.456085</td>\n",
       "      <td>0.000005</td>\n",
       "      <td>0</td>\n",
       "      <td>0</td>\n",
       "      <td>0.0</td>\n",
       "      <td>0.0</td>\n",
       "      <td>0.0</td>\n",
       "      <td>0</td>\n",
       "      <td>0.0</td>\n",
       "    </tr>\n",
       "    <tr>\n",
       "      <th>2673725</th>\n",
       "      <td>2.4952</td>\n",
       "      <td>2.456700</td>\n",
       "      <td>2.456085</td>\n",
       "      <td>0.000005</td>\n",
       "      <td>0</td>\n",
       "      <td>0</td>\n",
       "      <td>0.0</td>\n",
       "      <td>0.0</td>\n",
       "      <td>0.0</td>\n",
       "      <td>0</td>\n",
       "      <td>0.0</td>\n",
       "    </tr>\n",
       "    <tr>\n",
       "      <th>2673726</th>\n",
       "      <td>2.4628</td>\n",
       "      <td>2.456700</td>\n",
       "      <td>2.456085</td>\n",
       "      <td>0.000004</td>\n",
       "      <td>0</td>\n",
       "      <td>0</td>\n",
       "      <td>0.0</td>\n",
       "      <td>0.0</td>\n",
       "      <td>0.0</td>\n",
       "      <td>0</td>\n",
       "      <td>0.0</td>\n",
       "    </tr>\n",
       "    <tr>\n",
       "      <th>2673727</th>\n",
       "      <td>2.4502</td>\n",
       "      <td>2.456700</td>\n",
       "      <td>2.456085</td>\n",
       "      <td>0.000004</td>\n",
       "      <td>0</td>\n",
       "      <td>0</td>\n",
       "      <td>0.0</td>\n",
       "      <td>0.0</td>\n",
       "      <td>0.0</td>\n",
       "      <td>0</td>\n",
       "      <td>0.0</td>\n",
       "    </tr>\n",
       "  </tbody>\n",
       "</table>\n",
       "<p>2673728 rows × 11 columns</p>\n",
       "</div>"
      ],
      "text/plain": [
       "         EDA_Raw  EDA_Clean  EDA_Tonic  EDA_Phasic  SCR_Onsets  SCR_Peaks  \\\n",
       "0         4.9988   4.996449   4.999556   -0.003107           0          0   \n",
       "1         4.9812   4.996404   4.999581   -0.003178           0          0   \n",
       "2         5.0144   4.996358   4.999607   -0.003249           0          0   \n",
       "3         4.9953   4.996311   4.999632   -0.003321           0          0   \n",
       "4         4.9927   4.996264   4.999657   -0.003393           0          0   \n",
       "...          ...        ...        ...         ...         ...        ...   \n",
       "2673723   2.4525   2.456700   2.456085    0.000006           0          0   \n",
       "2673724   2.4406   2.456700   2.456085    0.000005           0          0   \n",
       "2673725   2.4952   2.456700   2.456085    0.000005           0          0   \n",
       "2673726   2.4628   2.456700   2.456085    0.000004           0          0   \n",
       "2673727   2.4502   2.456700   2.456085    0.000004           0          0   \n",
       "\n",
       "         SCR_Height  SCR_Amplitude  SCR_RiseTime  SCR_Recovery  \\\n",
       "0               0.0            0.0           0.0             0   \n",
       "1               0.0            0.0           0.0             0   \n",
       "2               0.0            0.0           0.0             0   \n",
       "3               0.0            0.0           0.0             0   \n",
       "4               0.0            0.0           0.0             0   \n",
       "...             ...            ...           ...           ...   \n",
       "2673723         0.0            0.0           0.0             0   \n",
       "2673724         0.0            0.0           0.0             0   \n",
       "2673725         0.0            0.0           0.0             0   \n",
       "2673726         0.0            0.0           0.0             0   \n",
       "2673727         0.0            0.0           0.0             0   \n",
       "\n",
       "         SCR_RecoveryTime  \n",
       "0                     0.0  \n",
       "1                     0.0  \n",
       "2                     0.0  \n",
       "3                     0.0  \n",
       "4                     0.0  \n",
       "...                   ...  \n",
       "2673723               0.0  \n",
       "2673724               0.0  \n",
       "2673725               0.0  \n",
       "2673726               0.0  \n",
       "2673727               0.0  \n",
       "\n",
       "[2673728 rows x 11 columns]"
      ]
     },
     "execution_count": 10,
     "metadata": {},
     "output_type": "execute_result"
    }
   ],
   "source": [
    "signals"
   ]
  },
  {
   "cell_type": "code",
   "execution_count": 27,
   "id": "080e37e5",
   "metadata": {},
   "outputs": [],
   "source": [
    "eda_filtered = bsnb.lowpass(CH2,1,use_filtfilt=True)"
   ]
  },
  {
   "cell_type": "code",
   "execution_count": 33,
   "id": "896b458d",
   "metadata": {},
   "outputs": [],
   "source": [
    "eda_components = nk.eda_phasic(eda_filtered)\n",
    "eda_phasic = eda_components[\"EDA_Phasic\"].values\n",
    "eda_tonic = eda_components[\"EDA_Tonic\"].values"
   ]
  },
  {
   "cell_type": "code",
   "execution_count": 44,
   "id": "49c1cd06",
   "metadata": {},
   "outputs": [
    {
     "data": {
      "text/plain": [
       "{'SCR_Onsets': array([   8655,   17728,   28001, ..., 2671324, 2672348, 2673348],\n",
       "       dtype=int64),\n",
       " 'SCR_Peaks': array([   4970,   11274,   27516, ..., 2671001, 2671742, 2672862],\n",
       "       dtype=int64),\n",
       " 'SCR_Height': array([0.05640427, 0.59931177, 0.00885957, ..., 0.00075997, 0.0011864 ,\n",
       "        0.00061982]),\n",
       " 'SCR_Amplitude': array([           nan, 1.01113948e+00, 8.04208105e-02, ...,\n",
       "        1.24401930e-03, 8.74895396e-04, 1.27827124e-03]),\n",
       " 'SCR_RiseTime': array([  nan, 2.619, 9.788, ..., 0.603, 0.418, 0.514]),\n",
       " 'SCR_Recovery': array([     nan,   13828.,      nan, ...,      nan, 2671978., 2673132.]),\n",
       " 'SCR_RecoveryTime': array([  nan, 2.554,   nan, ...,   nan, 0.236, 0.27 ]),\n",
       " 'sampling_rate': 1000}"
      ]
     },
     "execution_count": 44,
     "metadata": {},
     "output_type": "execute_result"
    }
   ],
   "source": [
    "info,signals = nk.eda_peaks(eda_phasic,fs,method=\"gamboa2008\")\n",
    "signals"
   ]
  },
  {
   "cell_type": "code",
   "execution_count": 53,
   "id": "0bcf497b",
   "metadata": {},
   "outputs": [
    {
     "data": {
      "text/plain": [
       "(0.00904784842060338, 0.0045773177760028315)"
      ]
     },
     "execution_count": 53,
     "metadata": {},
     "output_type": "execute_result"
    }
   ],
   "source": [
    "np.nanmean(signals[\"SCR_Amplitude\"]),np.nanmean(signals[\"SCR_Height\"])"
   ]
  },
  {
   "cell_type": "code",
   "execution_count": 34,
   "id": "d0cfbb7f",
   "metadata": {},
   "outputs": [
    {
     "name": "stdout",
     "output_type": "stream",
     "text": [
      "Using matplotlib backend: Qt5Agg\n"
     ]
    },
    {
     "data": {
      "text/plain": [
       "[<matplotlib.lines.Line2D at 0x25c8624dac8>]"
      ]
     },
     "execution_count": 34,
     "metadata": {},
     "output_type": "execute_result"
    }
   ],
   "source": [
    "%matplotlib\n",
    "plt.plot(eda_phasic)\n",
    "plt.plot(eda_tonic)"
   ]
  },
  {
   "cell_type": "code",
   "execution_count": 52,
   "id": "b5de06d3",
   "metadata": {},
   "outputs": [
    {
     "data": {
      "text/plain": [
       "{'EDA_Symp': None, 'EDA_SympN': None}"
      ]
     },
     "execution_count": 52,
     "metadata": {},
     "output_type": "execute_result"
    }
   ],
   "source": [
    "nk.eda_sympathetic(eda_filtered,fs,frequency_band=[0.25,0.50])"
   ]
  },
  {
   "cell_type": "code",
   "execution_count": null,
   "id": "98bc9ff3",
   "metadata": {},
   "outputs": [],
   "source": []
  }
 ],
 "metadata": {
  "kernelspec": {
   "display_name": "Python 3",
   "language": "python",
   "name": "python3"
  },
  "language_info": {
   "codemirror_mode": {
    "name": "ipython",
    "version": 3
   },
   "file_extension": ".py",
   "mimetype": "text/x-python",
   "name": "python",
   "nbconvert_exporter": "python",
   "pygments_lexer": "ipython3",
   "version": "3.7.10"
  }
 },
 "nbformat": 4,
 "nbformat_minor": 5
}
