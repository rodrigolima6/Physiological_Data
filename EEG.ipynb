{
 "cells": [
  {
   "cell_type": "code",
   "execution_count": 7,
   "id": "9f3d543f",
   "metadata": {},
   "outputs": [
    {
     "name": "stdout",
     "output_type": "stream",
     "text": [
      "Using matplotlib backend: Qt5Agg\n"
     ]
    }
   ],
   "source": [
    "%run Load_Data.ipynb import *\n",
    "import matplotlib.pyplot as plt\n",
    "import biosignalsnotebooks as bsnb\n",
    "from scipy import signal\n",
    "import numpy as np\n",
    "import import_ipynb\n",
    "from Load_Data import *"
   ]
  },
  {
   "cell_type": "code",
   "execution_count": 8,
   "id": "13e3cf23",
   "metadata": {},
   "outputs": [],
   "source": [
    "# Design a notch filter using signal.iirnotch\n",
    "b_notch, a_notch = signal.iirnotch(50, 30, EEG_fs)"
   ]
  },
  {
   "cell_type": "code",
   "execution_count": 9,
   "id": "dade05e9",
   "metadata": {},
   "outputs": [],
   "source": [
    "EEG_filtered={}\n",
    "\n",
    "for keys in EEG.keys():\n",
    "    EEG_shift = EEG[keys]-np.mean(EEG[keys])\n",
    "    EEG_filtered[keys] = bsnb.bandpass(EEG_shift,3,38,order=8,fs=EEG_fs,use_filtfilt=True)"
   ]
  },
  {
   "cell_type": "code",
   "execution_count": 10,
   "id": "afdd1f90",
   "metadata": {},
   "outputs": [],
   "source": [
    "plt.figure()\n",
    "for keys in EEG_filtered.keys():\n",
    "    plt.plot(EEG_filtered[keys])"
   ]
  },
  {
   "cell_type": "code",
   "execution_count": 11,
   "id": "08f45ab3",
   "metadata": {},
   "outputs": [],
   "source": [
    "freq_axis = {}\n",
    "power_spect={}\n",
    "for keys in EEG_filtered.keys():\n",
    "    freq_axis[keys],power_spect[keys] = bsnb.plotfft(EEG_filtered[keys],EEG_fs)"
   ]
  },
  {
   "cell_type": "code",
   "execution_count": 12,
   "id": "b2763eb5",
   "metadata": {},
   "outputs": [
    {
     "name": "stdout",
     "output_type": "stream",
     "text": [
      "Using matplotlib backend: Qt5Agg\n"
     ]
    }
   ],
   "source": [
    "%matplotlib\n",
    "for keys in freq_axis.keys():\n",
    "    plt.plot(freq_axis[keys],power_spect[keys])"
   ]
  },
  {
   "cell_type": "code",
   "execution_count": null,
   "id": "0274ef8f",
   "metadata": {},
   "outputs": [],
   "source": []
  }
 ],
 "metadata": {
  "kernelspec": {
   "display_name": "Python 3",
   "language": "python",
   "name": "python3"
  },
  "language_info": {
   "codemirror_mode": {
    "name": "ipython",
    "version": 3
   },
   "file_extension": ".py",
   "mimetype": "text/x-python",
   "name": "python",
   "nbconvert_exporter": "python",
   "pygments_lexer": "ipython3",
   "version": "3.7.10"
  }
 },
 "nbformat": 4,
 "nbformat_minor": 5
}
