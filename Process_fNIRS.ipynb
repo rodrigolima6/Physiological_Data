{
 "cells": [
  {
   "cell_type": "code",
   "execution_count": 36,
   "id": "7d7944d0",
   "metadata": {},
   "outputs": [],
   "source": [
    "%run Load_Data.ipynb import *\n",
    "from lib.biosignals import *\n",
    "from lib.acquisition import *\n",
    "from lib.sensors import *\n",
    "from mes2hb.mes2hb import Mes2Hb"
   ]
  },
  {
   "cell_type": "code",
   "execution_count": 45,
   "id": "6c5947ba",
   "metadata": {},
   "outputs": [
    {
     "name": "stdout",
     "output_type": "stream",
     "text": [
      "[-8.97656263e-11 -8.99516178e-11 -9.01372388e-11 ...  7.60330810e-16\n",
      "  5.53438868e-16  3.87771685e-16] [-9.29819632e-11 -9.24710093e-11 -9.19558715e-11 ... -1.25725819e-14\n",
      " -1.13198281e-14 -1.00220418e-14]\n",
      "Time to reshape:  0.0 ; Shape:  (2249248, 1)\n",
      "Time to get coefficients:  0.0 Coefficients:  0.102465 0.2611131 0.7925498 0.1823647\n",
      "Time to compute mean:  0.0\n",
      "Time to compute baseline:  0.10022258758544922\n",
      "Time to compute log:  0.055999755859375\n",
      "Time to compute Oxy Hb:  0.03280138969421387\n",
      "Time to compute Deoxy Hb:  0.03350949287414551\n"
     ]
    }
   ],
   "source": [
    "data = np.vstack((CH5, CH6)).T\n",
    "time = time_Opensignals\n",
    "sensor = fNIRS(data,fs,16)\n",
    "sensor.processfNIRS()"
   ]
  },
  {
   "cell_type": "code",
   "execution_count": 46,
   "id": "bb9dd92b",
   "metadata": {},
   "outputs": [
    {
     "name": "stdout",
     "output_type": "stream",
     "text": [
      "Using matplotlib backend: Qt5Agg\n"
     ]
    },
    {
     "data": {
      "text/plain": [
       "<matplotlib.legend.Legend at 0x1c637e7cec8>"
      ]
     },
     "execution_count": 46,
     "metadata": {},
     "output_type": "execute_result"
    }
   ],
   "source": [
    "%matplotlib\n",
    "plt.plot(time,infrared,label=\"InfraRed\")\n",
    "plt.plot(time,red,label=\"Red\")\n",
    "plt.legend()"
   ]
  },
  {
   "cell_type": "code",
   "execution_count": 50,
   "id": "b5cbd351",
   "metadata": {},
   "outputs": [
    {
     "name": "stdout",
     "output_type": "stream",
     "text": [
      "Using matplotlib backend: Qt5Agg\n"
     ]
    },
    {
     "data": {
      "text/plain": [
       "[<matplotlib.lines.Line2D at 0x1c606aaaa48>]"
      ]
     },
     "execution_count": 50,
     "metadata": {},
     "output_type": "execute_result"
    }
   ],
   "source": [
    "%matplotlib\n",
    "plt.plot(hbo,'b')\n",
    "plt.plot(hb,'r')"
   ]
  },
  {
   "cell_type": "code",
   "execution_count": 56,
   "id": "bee2a137",
   "metadata": {},
   "outputs": [
    {
     "data": {
      "text/plain": [
       "54.663399141292814"
      ]
     },
     "execution_count": 56,
     "metadata": {},
     "output_type": "execute_result"
    }
   ],
   "source": [
    "np.max(hbo)"
   ]
  },
  {
   "cell_type": "code",
   "execution_count": null,
   "id": "11e1e599",
   "metadata": {
    "collapsed": true
   },
   "outputs": [],
   "source": []
  }
 ],
 "metadata": {
  "kernelspec": {
   "display_name": "Python 3",
   "language": "python",
   "name": "python3"
  },
  "language_info": {
   "codemirror_mode": {
    "name": "ipython",
    "version": 3
   },
   "file_extension": ".py",
   "mimetype": "text/x-python",
   "name": "python",
   "nbconvert_exporter": "python",
   "pygments_lexer": "ipython3",
   "version": "3.7.10"
  }
 },
 "nbformat": 4,
 "nbformat_minor": 5
}
