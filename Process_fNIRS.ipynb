{
 "cells": [
  {
   "cell_type": "code",
   "execution_count": 4,
   "id": "7d7944d0",
   "metadata": {},
   "outputs": [
    {
     "name": "stdout",
     "output_type": "stream",
     "text": [
      "Using matplotlib backend: Qt5Agg\n"
     ]
    }
   ],
   "source": [
    "%run Load_Data.ipynb import *\n",
    "from lib.biosignals import *\n",
    "from lib.acquisition import *\n",
    "from lib.sensors import *\n",
    "from mes2hb.mes2hb import Mes2Hb"
   ]
  },
  {
   "cell_type": "code",
   "execution_count": 8,
   "id": "3be39293",
   "metadata": {},
   "outputs": [],
   "source": [
    "red= fNIRS.convertPhys(CH5,16)\n",
    "infrared=fNIRS.convertPhys(CH6,16)\n",
    "time=np.array(bsnb.generate_time(red,fs))"
   ]
  },
  {
   "cell_type": "code",
   "execution_count": 9,
   "id": "05d672da",
   "metadata": {},
   "outputs": [],
   "source": [
    "red = fNIRS.filterData(red,fs)\n",
    "infrared = fNIRS.filterData(infrared,fs)"
   ]
  },
  {
   "cell_type": "code",
   "execution_count": 11,
   "id": "748d36cc",
   "metadata": {},
   "outputs": [],
   "source": [
    "converter = Mes2Hb()"
   ]
  },
  {
   "cell_type": "code",
   "execution_count": null,
   "id": "b8b66c75",
   "metadata": {},
   "outputs": [],
   "source": [
    "hbo, hb, hbt = converter.convert([red.copy(), infrared.copy()], wavelength=[660, 860])"
   ]
  },
  {
   "cell_type": "code",
   "execution_count": null,
   "id": "bb9dd92b",
   "metadata": {},
   "outputs": [],
   "source": [
    "%matplotlib\n",
    "plt.plot(time,infrared,label=\"InfraRed\")\n",
    "plt.plot(time,red,label=\"Red\")\n",
    "plt.legend()"
   ]
  },
  {
   "cell_type": "code",
   "execution_count": null,
   "id": "3bd6aeb2",
   "metadata": {},
   "outputs": [],
   "source": [
    "red = bsnb.bandpass(red,0.01,0.9,use_filtfilt=True)\n",
    "infrared = bsnb.bandpass(infrared,0.01,0.9,use_filtfilt=True)"
   ]
  },
  {
   "cell_type": "code",
   "execution_count": null,
   "id": "0abe8962",
   "metadata": {},
   "outputs": [],
   "source": [
    "%matplotlib\n",
    "plt.figure(1)\n",
    "plt.plot(time,infrared,label=\"InfraRed\")\n",
    "plt.figure(2)\n",
    "plt.plot(time,red,label=\"Red\")\n",
    "plt.legend()"
   ]
  },
  {
   "cell_type": "code",
   "execution_count": null,
   "id": "b5cbd351",
   "metadata": {},
   "outputs": [],
   "source": []
  }
 ],
 "metadata": {
  "kernelspec": {
   "display_name": "Python 3",
   "language": "python",
   "name": "python3"
  },
  "language_info": {
   "codemirror_mode": {
    "name": "ipython",
    "version": 3
   },
   "file_extension": ".py",
   "mimetype": "text/x-python",
   "name": "python",
   "nbconvert_exporter": "python",
   "pygments_lexer": "ipython3",
   "version": "3.7.10"
  }
 },
 "nbformat": 4,
 "nbformat_minor": 5
}
