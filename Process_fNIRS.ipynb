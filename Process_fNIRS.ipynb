{
 "cells": [
  {
   "cell_type": "code",
   "execution_count": 3,
   "id": "7d7944d0",
   "metadata": {},
   "outputs": [],
   "source": [
    "%run Load_Data.ipynb import *\n",
    "from Process_Features import *"
   ]
  },
  {
   "cell_type": "code",
   "execution_count": 4,
   "id": "150a4008",
   "metadata": {},
   "outputs": [
    {
     "data": {
      "text/plain": [
       "array([0.0545603, 0.0542616, 0.0542616, ..., 0.0640743, 0.0640274,\n",
       "       0.0640274], dtype=float32)"
      ]
     },
     "execution_count": 4,
     "metadata": {},
     "output_type": "execute_result"
    }
   ],
   "source": [
    "CH5"
   ]
  },
  {
   "cell_type": "code",
   "execution_count": 22,
   "id": "7dfd06e2",
   "metadata": {},
   "outputs": [
    {
     "name": "stdout",
     "output_type": "stream",
     "text": [
      "[-3.49117190e-11 -3.64173416e-11 -3.79229859e-11 ... -1.46707224e-15\n",
      " -1.22304850e-15 -1.00778209e-15] [-1.48478066e-10 -1.50005427e-10 -1.51532483e-10 ... -2.00314569e-15\n",
      " -1.66292254e-15 -1.36436819e-15]\n"
     ]
    },
    {
     "data": {
      "text/plain": [
       "[<matplotlib.lines.Line2D at 0x26a2a681408>]"
      ]
     },
     "execution_count": 22,
     "metadata": {},
     "output_type": "execute_result"
    },
    {
     "data": {
      "image/png": "[encoded data removed]",
      "text/plain": [
       "<Figure size 432x288 with 1 Axes>"
      ]
     },
     "metadata": {
      "needs_background": "light"
     },
     "output_type": "display_data"
    }
   ],
   "source": [
    "data = np.vstack((CH5, CH6)).T\n",
    "sensor = fNIRS(data,fs,16)\n",
    "plt.figure()\n",
    "plt.plot(sensor.convertPhys(data[:,0],16))\n",
    "plt.plot(sensor.red)"
   ]
  },
  {
   "cell_type": "code",
   "execution_count": 14,
   "id": "6c5947ba",
   "metadata": {},
   "outputs": [
    {
     "name": "stdout",
     "output_type": "stream",
     "text": [
      "[-3.49117190e-11 -3.64173416e-11 -3.79229859e-11 ... -1.46707224e-15\n",
      " -1.22304850e-15 -1.00778209e-15] [-1.48478066e-10 -1.50005427e-10 -1.51532483e-10 ... -2.00314569e-15\n",
      " -1.66292254e-15 -1.36436819e-15]\n"
     ]
    }
   ],
   "source": [
    "data = np.vstack((CH5, CH6)).T\n",
    "# fNIRS_Dataframe = Process_fNIRS(data,fs,16)"
   ]
  },
  {
   "cell_type": "code",
   "execution_count": 5,
   "id": "1c799852",
   "metadata": {},
   "outputs": [
    {
     "data": {
      "text/html": [
       "<div>\n",
       "<style scoped>\n",
       "    .dataframe tbody tr th:only-of-type {\n",
       "        vertical-align: middle;\n",
       "    }\n",
       "\n",
       "    .dataframe tbody tr th {\n",
       "        vertical-align: top;\n",
       "    }\n",
       "\n",
       "    .dataframe thead th {\n",
       "        text-align: right;\n",
       "    }\n",
       "</style>\n",
       "<table border=\"1\" class=\"dataframe\">\n",
       "  <thead>\n",
       "    <tr style=\"text-align: right;\">\n",
       "      <th></th>\n",
       "      <th>AVG Hb</th>\n",
       "      <th>Minimum Hb</th>\n",
       "      <th>Maximum Hb</th>\n",
       "      <th>STD Hb</th>\n",
       "      <th>AVG Hbo</th>\n",
       "      <th>Minimum Hbo</th>\n",
       "      <th>Maximum Hbo</th>\n",
       "      <th>STD Hbo</th>\n",
       "      <th>AVG Hbt</th>\n",
       "      <th>Minimum Hbt</th>\n",
       "      <th>Maximum Hbt</th>\n",
       "      <th>STD Hbt</th>\n",
       "    </tr>\n",
       "  </thead>\n",
       "  <tbody>\n",
       "    <tr>\n",
       "      <th>0</th>\n",
       "      <td>0.596764</td>\n",
       "      <td>-8.873853</td>\n",
       "      <td>22.48962</td>\n",
       "      <td>1.370225</td>\n",
       "      <td>-2.299104</td>\n",
       "      <td>-30.000044</td>\n",
       "      <td>57.969679</td>\n",
       "      <td>4.045995</td>\n",
       "      <td>-1.70234</td>\n",
       "      <td>-21.034846</td>\n",
       "      <td>53.779189</td>\n",
       "      <td>3.372907</td>\n",
       "    </tr>\n",
       "  </tbody>\n",
       "</table>\n",
       "</div>"
      ],
      "text/plain": [
       "     AVG Hb  Minimum Hb  Maximum Hb    STD Hb   AVG Hbo  Minimum Hbo  \\\n",
       "0  0.596764   -8.873853    22.48962  1.370225 -2.299104   -30.000044   \n",
       "\n",
       "   Maximum Hbo   STD Hbo  AVG Hbt  Minimum Hbt  Maximum Hbt   STD Hbt  \n",
       "0    57.969679  4.045995 -1.70234   -21.034846    53.779189  3.372907  "
      ]
     },
     "execution_count": 5,
     "metadata": {},
     "output_type": "execute_result"
    }
   ],
   "source": [
    "fNIRS_Dataframe"
   ]
  },
  {
   "cell_type": "code",
   "execution_count": 6,
   "id": "bb9dd92b",
   "metadata": {},
   "outputs": [
    {
     "name": "stdout",
     "output_type": "stream",
     "text": [
      "Using matplotlib backend: Qt5Agg\n"
     ]
    },
    {
     "ename": "NameError",
     "evalue": "name 'time' is not defined",
     "output_type": "error",
     "traceback": [
      "\u001b[1;31m---------------------------------------------------------------------------\u001b[0m",
      "\u001b[1;31mNameError\u001b[0m                                 Traceback (most recent call last)",
      "\u001b[1;32m<ipython-input-6-1ae474d7e126>\u001b[0m in \u001b[0;36m<module>\u001b[1;34m\u001b[0m\n\u001b[0;32m      1\u001b[0m \u001b[0mget_ipython\u001b[0m\u001b[1;33m(\u001b[0m\u001b[1;33m)\u001b[0m\u001b[1;33m.\u001b[0m\u001b[0mrun_line_magic\u001b[0m\u001b[1;33m(\u001b[0m\u001b[1;34m'matplotlib'\u001b[0m\u001b[1;33m,\u001b[0m \u001b[1;34m''\u001b[0m\u001b[1;33m)\u001b[0m\u001b[1;33m\u001b[0m\u001b[1;33m\u001b[0m\u001b[0m\n\u001b[1;32m----> 2\u001b[1;33m \u001b[0mplt\u001b[0m\u001b[1;33m.\u001b[0m\u001b[0mplot\u001b[0m\u001b[1;33m(\u001b[0m\u001b[0mtime\u001b[0m\u001b[1;33m,\u001b[0m\u001b[0minfrared\u001b[0m\u001b[1;33m,\u001b[0m\u001b[0mlabel\u001b[0m\u001b[1;33m=\u001b[0m\u001b[1;34m\"InfraRed\"\u001b[0m\u001b[1;33m)\u001b[0m\u001b[1;33m\u001b[0m\u001b[1;33m\u001b[0m\u001b[0m\n\u001b[0m\u001b[0;32m      3\u001b[0m \u001b[0mplt\u001b[0m\u001b[1;33m.\u001b[0m\u001b[0mplot\u001b[0m\u001b[1;33m(\u001b[0m\u001b[0mtime\u001b[0m\u001b[1;33m,\u001b[0m\u001b[0mred\u001b[0m\u001b[1;33m,\u001b[0m\u001b[0mlabel\u001b[0m\u001b[1;33m=\u001b[0m\u001b[1;34m\"Red\"\u001b[0m\u001b[1;33m)\u001b[0m\u001b[1;33m\u001b[0m\u001b[1;33m\u001b[0m\u001b[0m\n\u001b[0;32m      4\u001b[0m \u001b[0mplt\u001b[0m\u001b[1;33m.\u001b[0m\u001b[0mlegend\u001b[0m\u001b[1;33m(\u001b[0m\u001b[1;33m)\u001b[0m\u001b[1;33m\u001b[0m\u001b[1;33m\u001b[0m\u001b[0m\n",
      "\u001b[1;31mNameError\u001b[0m: name 'time' is not defined"
     ]
    }
   ],
   "source": [
    "%matplotlib\n",
    "plt.plot(time,infrared,label=\"InfraRed\")\n",
    "plt.plot(time,red,label=\"Red\")\n",
    "plt.legend()"
   ]
  },
  {
   "cell_type": "code",
   "execution_count": null,
   "id": "b5cbd351",
   "metadata": {},
   "outputs": [],
   "source": [
    "%matplotlib\n",
    "plt.plot(hbo,'b')\n",
    "plt.plot(hb,'r')"
   ]
  },
  {
   "cell_type": "code",
   "execution_count": null,
   "id": "bee2a137",
   "metadata": {},
   "outputs": [],
   "source": [
    "np.max(hbo)"
   ]
  },
  {
   "cell_type": "code",
   "execution_count": null,
   "id": "11e1e599",
   "metadata": {},
   "outputs": [],
   "source": []
  }
 ],
 "metadata": {
  "kernelspec": {
   "display_name": "Python 3",
   "language": "python",
   "name": "python3"
  },
  "language_info": {
   "codemirror_mode": {
    "name": "ipython",
    "version": 3
   },
   "file_extension": ".py",
   "mimetype": "text/x-python",
   "name": "python",
   "nbconvert_exporter": "python",
   "pygments_lexer": "ipython3",
   "version": "3.7.10"
  }
 },
 "nbformat": 4,
 "nbformat_minor": 5
}
