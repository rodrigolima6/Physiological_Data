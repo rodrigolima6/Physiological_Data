{
 "cells": [
  {
   "cell_type": "code",
   "execution_count": 15,
   "id": "078afbe7",
   "metadata": {},
   "outputs": [],
   "source": [
    "%reload_ext autoreload\n",
    "%autoreload 2\n",
    "\n",
    "from Load import *\n",
    "import numpy as np\n",
    "import os\n",
    "import biosignalsnotebooks as bsnb\n",
    "import sys\n",
    "import matplotlib.pyplot as plt\n",
    "module_path = os.path.abspath(os.path.join('C:\\\\Users\\\\Rodrigo\\\\Desktop\\\\PhD\\\\1st Study'))\n",
    "if module_path not in sys.path:\n",
    "    sys.path.append(module_path)\n",
    "from Process_Features import *"
   ]
  },
  {
   "cell_type": "code",
   "execution_count": 16,
   "id": "c98a8181",
   "metadata": {},
   "outputs": [],
   "source": [
    "data, header = pyxdf.load_xdf('G:\\\\O meu disco\\\\PhD\\\\1st Study\\\\data\\\\P4_S2_GroupA_eeg.xdf')"
   ]
  },
  {
   "cell_type": "code",
   "execution_count": 17,
   "id": "c596f019",
   "metadata": {},
   "outputs": [],
   "source": [
    "Signals,EEG_Signals,marker,timestamps = Load_Data(data)"
   ]
  },
  {
   "cell_type": "code",
   "execution_count": 10,
   "id": "95384afc",
   "metadata": {},
   "outputs": [],
   "source": [
    "marker,timestamps = Load_Psychopy(data)\n",
    "CH1,CH2,CH3,CH4,CH5,CH6,time_Opensignals,fs = Load_Opensignals(data)\n",
    "EEG_data,time_EEG,EEG_fs = Load_EEG(data)"
   ]
  },
  {
   "cell_type": "code",
   "execution_count": 11,
   "id": "3c4554d0",
   "metadata": {},
   "outputs": [
    {
     "data": {
      "text/plain": [
       "(2254624, 480320)"
      ]
     },
     "execution_count": 11,
     "metadata": {},
     "output_type": "execute_result"
    }
   ],
   "source": [
    "len(time_Opensignals),len(time_EEG)"
   ]
  },
  {
   "cell_type": "code",
   "execution_count": 18,
   "id": "1dff706b",
   "metadata": {},
   "outputs": [
    {
     "data": {
      "text/plain": [
       "(52, 52)"
      ]
     },
     "execution_count": 18,
     "metadata": {},
     "output_type": "execute_result"
    }
   ],
   "source": [
    "len(marker),len(timestamps)"
   ]
  },
  {
   "cell_type": "code",
   "execution_count": 19,
   "id": "8ea6d652",
   "metadata": {},
   "outputs": [
    {
     "data": {
      "text/plain": [
       "(26, 26)"
      ]
     },
     "execution_count": 19,
     "metadata": {},
     "output_type": "execute_result"
    }
   ],
   "source": [
    "onset,offset,videos = getMarkers(marker,timestamps)\n",
    "len(onset),len(offset)"
   ]
  },
  {
   "cell_type": "code",
   "execution_count": 21,
   "id": "1a889069",
   "metadata": {},
   "outputs": [
    {
     "data": {
      "text/plain": [
       "([450.5989211529377,\n",
       "  731.2459587876219,\n",
       "  810.6424088137574,\n",
       "  885.9322619371815,\n",
       "  967.5557464460144,\n",
       "  1050.799310364644,\n",
       "  1134.496962976351,\n",
       "  1222.9524087370373,\n",
       "  1309.5017765933299,\n",
       "  1388.6556891073706,\n",
       "  1463.072961420694,\n",
       "  1539.9113051061868,\n",
       "  1617.1372504766332,\n",
       "  1694.7578795474255,\n",
       "  1773.4570353762829,\n",
       "  1849.6750182484975,\n",
       "  1925.5783894667402,\n",
       "  2004.3938537107315,\n",
       "  2085.791047414008,\n",
       "  2162.599284258089,\n",
       "  2239.0627745069796,\n",
       "  2318.525449444598,\n",
       "  2400.5665731806657,\n",
       "  2480.377907666785,\n",
       "  2558.211687199713,\n",
       "  2630.6815759004676],\n",
       " 0          448.478483\n",
       " 1          448.483175\n",
       " 2          448.487868\n",
       " 3          448.492561\n",
       " 4          448.497254\n",
       "              ...     \n",
       " 480315    2702.461110\n",
       " 480316    2702.465803\n",
       " 480317    2702.470495\n",
       " 480318    2702.475188\n",
       " 480319    2702.479881\n",
       " Name: Time, Length: 480320, dtype: float64)"
      ]
     },
     "execution_count": 21,
     "metadata": {},
     "output_type": "execute_result"
    }
   ],
   "source": [
    "onset,EEG_Signals[\"Time\"]"
   ]
  },
  {
   "cell_type": "code",
   "execution_count": 22,
   "id": "851352fa",
   "metadata": {},
   "outputs": [
    {
     "name": "stdout",
     "output_type": "stream",
     "text": [
      "[   452    453    454 ... 480317 480318 480319]\n",
      "[ 60257  60258  60259 ... 480317 480318 480319]\n",
      "[ 77176  77177  77178 ... 480317 480318 480319]\n",
      "[ 93220  93221  93222 ... 480317 480318 480319]\n",
      "[110614 110615 110616 ... 480317 480318 480319]\n",
      "[128353 128354 128355 ... 480317 480318 480319]\n",
      "[146188 146189 146190 ... 480317 480318 480319]\n",
      "[165038 165039 165040 ... 480317 480318 480319]\n",
      "[183481 183482 183483 ... 480317 480318 480319]\n",
      "[200349 200350 200351 ... 480317 480318 480319]\n",
      "[216207 216208 216209 ... 480317 480318 480319]\n",
      "[232581 232582 232583 ... 480317 480318 480319]\n",
      "[249037 249038 249039 ... 480317 480318 480319]\n",
      "[265578 265579 265580 ... 480317 480318 480319]\n",
      "[282348 282349 282350 ... 480317 480318 480319]\n",
      "[298590 298591 298592 ... 480317 480318 480319]\n",
      "[314765 314766 314767 ... 480317 480318 480319]\n",
      "[331560 331561 331562 ... 480317 480318 480319]\n",
      "[348905 348906 348907 ... 480317 480318 480319]\n",
      "[365273 365274 365275 ... 480317 480318 480319]\n",
      "[381567 381568 381569 ... 480317 480318 480319]\n",
      "[398500 398501 398502 ... 480317 480318 480319]\n",
      "[415983 415984 415985 ... 480317 480318 480319]\n",
      "[432990 432991 432992 ... 480317 480318 480319]\n",
      "[449577 449578 449579 ... 480317 480318 480319]\n",
      "[465020 465021 465022 ... 480317 480318 480319]\n"
     ]
    }
   ],
   "source": [
    "for i in range(0,len(onset)):\n",
    "    print(np.where(EEG_Signals[\"Time\"] >= onset[i])[0])"
   ]
  },
  {
   "cell_type": "code",
   "execution_count": 40,
   "id": "196a4172",
   "metadata": {},
   "outputs": [
    {
     "ename": "IndexError",
     "evalue": "index 0 is out of bounds for axis 0 with size 0",
     "output_type": "error",
     "traceback": [
      "\u001b[1;31m---------------------------------------------------------------------------\u001b[0m",
      "\u001b[1;31mIndexError\u001b[0m                                Traceback (most recent call last)",
      "\u001b[1;32m<ipython-input-40-1f02f20eaeea>\u001b[0m in \u001b[0;36m<module>\u001b[1;34m\u001b[0m\n\u001b[0;32m      1\u001b[0m \u001b[0monset_index\u001b[0m\u001b[1;33m,\u001b[0m\u001b[0moffset_index\u001b[0m \u001b[1;33m=\u001b[0m \u001b[0mgetMarkersIndex\u001b[0m\u001b[1;33m(\u001b[0m\u001b[0monset\u001b[0m\u001b[1;33m,\u001b[0m\u001b[0moffset\u001b[0m\u001b[1;33m,\u001b[0m\u001b[0mtime_Opensignals\u001b[0m\u001b[1;33m)\u001b[0m\u001b[1;33m\u001b[0m\u001b[1;33m\u001b[0m\u001b[0m\n\u001b[1;32m----> 2\u001b[1;33m \u001b[0monset_index_EEG\u001b[0m\u001b[1;33m,\u001b[0m\u001b[0moffset_index_EEG\u001b[0m \u001b[1;33m=\u001b[0m \u001b[0mgetMarkersIndex\u001b[0m\u001b[1;33m(\u001b[0m\u001b[0monset\u001b[0m\u001b[1;33m,\u001b[0m\u001b[0moffset\u001b[0m\u001b[1;33m,\u001b[0m\u001b[0mtime_EEG\u001b[0m\u001b[1;33m)\u001b[0m\u001b[1;33m\u001b[0m\u001b[1;33m\u001b[0m\u001b[0m\n\u001b[0m\u001b[0;32m      3\u001b[0m \u001b[0moffset_index\u001b[0m\u001b[1;33m,\u001b[0m\u001b[0moffset_index_EEG\u001b[0m\u001b[1;33m\u001b[0m\u001b[1;33m\u001b[0m\u001b[0m\n",
      "\u001b[1;32m~\\Desktop\\PhD\\1st Study\\Physiological_Data\\Epochs.py\u001b[0m in \u001b[0;36mgetMarkersIndex\u001b[1;34m(onset, offset, time_Opensignals)\u001b[0m\n\u001b[0;32m     27\u001b[0m \u001b[1;33m\u001b[0m\u001b[0m\n\u001b[0;32m     28\u001b[0m     \u001b[1;32mfor\u001b[0m \u001b[0mi\u001b[0m \u001b[1;32min\u001b[0m \u001b[0mrange\u001b[0m\u001b[1;33m(\u001b[0m\u001b[1;36m0\u001b[0m\u001b[1;33m,\u001b[0m \u001b[0mlen\u001b[0m\u001b[1;33m(\u001b[0m\u001b[0monset\u001b[0m\u001b[1;33m)\u001b[0m\u001b[1;33m)\u001b[0m\u001b[1;33m:\u001b[0m\u001b[1;33m\u001b[0m\u001b[1;33m\u001b[0m\u001b[0m\n\u001b[1;32m---> 29\u001b[1;33m         \u001b[0monset_index\u001b[0m\u001b[1;33m.\u001b[0m\u001b[0mappend\u001b[0m\u001b[1;33m(\u001b[0m\u001b[0mnp\u001b[0m\u001b[1;33m.\u001b[0m\u001b[0mwhere\u001b[0m\u001b[1;33m(\u001b[0m\u001b[0mtime_Opensignals\u001b[0m \u001b[1;33m>=\u001b[0m \u001b[0monset\u001b[0m\u001b[1;33m[\u001b[0m\u001b[0mi\u001b[0m\u001b[1;33m]\u001b[0m\u001b[1;33m)\u001b[0m\u001b[1;33m[\u001b[0m\u001b[1;36m0\u001b[0m\u001b[1;33m]\u001b[0m\u001b[1;33m[\u001b[0m\u001b[1;36m0\u001b[0m\u001b[1;33m]\u001b[0m\u001b[1;33m)\u001b[0m\u001b[1;33m\u001b[0m\u001b[1;33m\u001b[0m\u001b[0m\n\u001b[0m\u001b[0;32m     30\u001b[0m         \u001b[0moffset_index\u001b[0m\u001b[1;33m.\u001b[0m\u001b[0mappend\u001b[0m\u001b[1;33m(\u001b[0m\u001b[0mnp\u001b[0m\u001b[1;33m.\u001b[0m\u001b[0mwhere\u001b[0m\u001b[1;33m(\u001b[0m\u001b[0mtime_Opensignals\u001b[0m \u001b[1;33m<=\u001b[0m \u001b[0moffset\u001b[0m\u001b[1;33m[\u001b[0m\u001b[0mi\u001b[0m\u001b[1;33m]\u001b[0m\u001b[1;33m)\u001b[0m\u001b[1;33m[\u001b[0m\u001b[1;36m0\u001b[0m\u001b[1;33m]\u001b[0m\u001b[1;33m[\u001b[0m\u001b[1;33m-\u001b[0m\u001b[1;36m1\u001b[0m\u001b[1;33m]\u001b[0m\u001b[1;33m)\u001b[0m\u001b[1;33m\u001b[0m\u001b[1;33m\u001b[0m\u001b[0m\n\u001b[0;32m     31\u001b[0m \u001b[1;33m\u001b[0m\u001b[0m\n",
      "\u001b[1;31mIndexError\u001b[0m: index 0 is out of bounds for axis 0 with size 0"
     ]
    }
   ],
   "source": [
    "onset_index,offset_index = getMarkersIndex(onset,offset,time_Opensignals)\n",
    "onset_index_EEG,offset_index_EEG = getMarkersIndex(onset,offset,time_EEG)\n",
    "offset_index,offset_index_EEG"
   ]
  },
  {
   "cell_type": "code",
   "execution_count": 33,
   "id": "34de10a0",
   "metadata": {
    "scrolled": true
   },
   "outputs": [
    {
     "data": {
      "text/plain": [
       "(62832.49393663838, 62832.491011406535)"
      ]
     },
     "execution_count": 33,
     "metadata": {},
     "output_type": "execute_result"
    }
   ],
   "source": [
    "time_Opensignals[13467],time_EEG[3384]"
   ]
  },
  {
   "cell_type": "code",
   "execution_count": 14,
   "id": "1b59bade",
   "metadata": {},
   "outputs": [],
   "source": [
    "timestamps-=time_Opensignals[0]\n",
    "time_Opensignals -= time_Opensignals[0]\n",
    "time_EEG -= time_EEG[0]"
   ]
  },
  {
   "cell_type": "code",
   "execution_count": 10,
   "id": "7d40d872",
   "metadata": {},
   "outputs": [
    {
     "data": {
      "text/plain": [
       "[['baseline', '1'],\n",
       " ['baseline', '1'],\n",
       " ['EMDB/B/Scenery/5005.avi', '0'],\n",
       " ['EMDB/B/Scenery/5005.avi', '1'],\n",
       " ['EMDB/B/Scenery/5008.avi', '0'],\n",
       " ['EMDB/B/Scenery/5008.avi', '1'],\n",
       " ['EMDB/B/Scenery/5007.avi', '0'],\n",
       " ['EMDB/B/Scenery/5007.avi', '1'],\n",
       " ['EMDB/B/Scenery/5006.avi', '0'],\n",
       " ['EMDB/B/Scenery/5006.avi', '1'],\n",
       " ['EMDB/B/Scenery/5009.avi', '0'],\n",
       " ['EMDB/B/Scenery/5009.avi', '1'],\n",
       " ['EMDB/B/Social Negative/3006.avi', '0'],\n",
       " ['EMDB/B/Social Negative/3006.avi', '1'],\n",
       " ['EMDB/B/Social Negative/3005.avi', '0'],\n",
       " ['EMDB/B/Social Negative/3005.avi', '1'],\n",
       " ['EMDB/B/Social Negative/3009.avi', '0'],\n",
       " ['EMDB/B/Social Negative/3009.avi', '1'],\n",
       " ['EMDB/B/Social Negative/3008.avi', '0'],\n",
       " ['EMDB/B/Social Negative/3008.avi', '1'],\n",
       " ['EMDB/B/Social Negative/3007.avi', '0'],\n",
       " ['EMDB/B/Social Negative/3007.avi', '1'],\n",
       " ['EMDB/B/Horror/1005.avi', '0'],\n",
       " ['EMDB/B/Horror/1005.avi', '1'],\n",
       " ['EMDB/B/Horror/1006.avi', '0'],\n",
       " ['EMDB/B/Horror/1006.avi', '1'],\n",
       " ['EMDB/B/Horror/1007.avi', '0'],\n",
       " ['EMDB/B/Horror/1007.avi', '1'],\n",
       " ['EMDB/B/Horror/1009.avi', '0'],\n",
       " ['EMDB/B/Horror/1009.avi', '1'],\n",
       " ['EMDB/B/Horror/1008.avi', '0'],\n",
       " ['EMDB/B/Horror/1008.avi', '1'],\n",
       " ['EMDB/B/Social Positive/4009.avi', '0'],\n",
       " ['EMDB/B/Social Positive/4009.avi', '1'],\n",
       " ['EMDB/B/Social Positive/4006.avi', '0'],\n",
       " ['EMDB/B/Social Positive/4006.avi', '1'],\n",
       " ['EMDB/B/Social Positive/4007.avi', '0'],\n",
       " ['EMDB/B/Social Positive/4007.avi', '1'],\n",
       " ['EMDB/B/Social Positive/4005.avi', '0'],\n",
       " ['EMDB/B/Social Positive/4005.avi', '1'],\n",
       " ['EMDB/B/Social Positive/4008.avi', '0'],\n",
       " ['EMDB/B/Social Positive/4008.avi', '1'],\n",
       " ['EMDB/B/Erotic/2006.avi', '0'],\n",
       " ['EMDB/B/Erotic/2006.avi', '1'],\n",
       " ['EMDB/B/Erotic/2007.avi', '0'],\n",
       " ['EMDB/B/Erotic/2007.avi', '1'],\n",
       " ['EMDB/B/Erotic/2009.avi', '0'],\n",
       " ['EMDB/B/Erotic/2009.avi', '1'],\n",
       " ['EMDB/B/Erotic/2005.avi', '0'],\n",
       " ['EMDB/B/Erotic/2005.avi', '1'],\n",
       " ['EMDB/B/Erotic/2008.avi', '0'],\n",
       " ['EMDB/B/Erotic/2008.avi', '1']]"
      ]
     },
     "execution_count": 10,
     "metadata": {},
     "output_type": "execute_result"
    }
   ],
   "source": [
    "marker"
   ]
  },
  {
   "cell_type": "code",
   "execution_count": 14,
   "id": "11ee1668",
   "metadata": {},
   "outputs": [
    {
     "data": {
      "text/plain": [
       "3.958584532549139"
      ]
     },
     "execution_count": 14,
     "metadata": {},
     "output_type": "execute_result"
    }
   ],
   "source": [
    "timestamps[0]"
   ]
  },
  {
   "cell_type": "code",
   "execution_count": 11,
   "id": "d6c4579f",
   "metadata": {},
   "outputs": [
    {
     "name": "stdout",
     "output_type": "stream",
     "text": [
      "Using matplotlib backend: Qt5Agg\n"
     ]
    },
    {
     "data": {
      "text/plain": [
       "[<matplotlib.lines.Line2D at 0x2469dab45c8>]"
      ]
     },
     "execution_count": 11,
     "metadata": {},
     "output_type": "execute_result"
    }
   ],
   "source": [
    "#Opensignals Data Plots\n",
    "%matplotlib\n",
    "plt.figure(1)\n",
    "for timestamp,markers in zip(timestamps,marker):\n",
    "    if (markers[1] == '1'):\n",
    "        plt.axvline(x=timestamp,color='r')\n",
    "    elif(markers[1] == '0'):\n",
    "        plt.axvline(x=timestamp,color='g')\n",
    "plt.plot(time_Opensignals,CH1,label=\"ECG\")\n",
    "plt.plot(time_Opensignals,CH2,label=\"EDA\")\n",
    "plt.plot(time_Opensignals,CH3,label=\"RESP\")\n",
    "plt.plot(time_Opensignals,CH4,label=\"TEMP\")\n",
    "plt.plot(time_Opensignals,CH5,label=\"fNIRS RED\")\n",
    "plt.plot(time_Opensignals,CH6,label=\"fNIRS IRED\")\n",
    "\n",
    "# #EEG Data Plots\n",
    "# plt.figure(2)\n",
    "# for timestamp,markers in zip(timestamps,marker):\n",
    "#     if (markers[1] == '1'):\n",
    "#         plt.axvline(x=timestamp,color='r')\n",
    "#     elif(markers[1] == '0'):\n",
    "#         plt.axvline(x=timestamp,color='g')\n",
    "# for keys in EEG.keys():\n",
    "#     plt.plot(time_EEG,EEG[keys],label=keys)"
   ]
  },
  {
   "cell_type": "code",
   "execution_count": null,
   "id": "5f12467d",
   "metadata": {},
   "outputs": [],
   "source": []
  }
 ],
 "metadata": {
  "kernelspec": {
   "display_name": "Python 3",
   "language": "python",
   "name": "python3"
  },
  "language_info": {
   "codemirror_mode": {
    "name": "ipython",
    "version": 3
   },
   "file_extension": ".py",
   "mimetype": "text/x-python",
   "name": "python",
   "nbconvert_exporter": "python",
   "pygments_lexer": "ipython3",
   "version": "3.7.10"
  }
 },
 "nbformat": 4,
 "nbformat_minor": 5
}
