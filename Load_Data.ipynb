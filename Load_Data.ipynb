{
 "cells": [
  {
   "cell_type": "code",
   "execution_count": 1,
   "id": "078afbe7",
   "metadata": {},
   "outputs": [],
   "source": [
    "from Load import *"
   ]
  },
  {
   "cell_type": "code",
   "execution_count": 2,
   "id": "c98a8181",
   "metadata": {},
   "outputs": [],
   "source": [
    "data, header = pyxdf.load_xdf('C:\\\\Users\\\\Rodrigo\\\\Documents\\\\CurrentStudy\\\\sub-P001\\\\ses-S001\\\\eeg\\\\sub-P001_ses-S001_task-Default_run-001_eeg.xdf')"
   ]
  },
  {
   "cell_type": "code",
   "execution_count": 18,
   "id": "a4fef113",
   "metadata": {},
   "outputs": [],
   "source": [
    "marker,timestamps=Load_Psychopy(data)\n",
    "CH1,CH2,CH3,CH4,time_Opensignals = Load_Opensignals(data)\n",
    "EEG,time_EEG = Load_EEG(data)"
   ]
  },
  {
   "cell_type": "code",
   "execution_count": 19,
   "id": "1b59bade",
   "metadata": {},
   "outputs": [],
   "source": [
    "timestamps-=time_Opensignals[0]\n",
    "time_Opensignals -= time_Opensignals[0]\n",
    "time_EEG -= time_EEG[0]"
   ]
  }
 ],
 "metadata": {
  "kernelspec": {
   "display_name": "Python 3",
   "language": "python",
   "name": "python3"
  },
  "language_info": {
   "codemirror_mode": {
    "name": "ipython",
    "version": 3
   },
   "file_extension": ".py",
   "mimetype": "text/x-python",
   "name": "python",
   "nbconvert_exporter": "python",
   "pygments_lexer": "ipython3",
   "version": "3.7.10"
  }
 },
 "nbformat": 4,
 "nbformat_minor": 5
}
