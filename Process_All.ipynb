{
 "cells": [
  {
   "cell_type": "code",
   "execution_count": 6,
   "id": "882b80fd",
   "metadata": {},
   "outputs": [],
   "source": [
    "%reload_ext autoreload\n",
    "%autoreload 2\n",
    "import os,sys\n",
    "import matplotlib.pyplot as plt\n",
    "module_path = os.path.abspath(os.path.join('C:\\\\Users\\\\Rodrigo\\\\Desktop\\\\PhD\\\\1st Study'))\n",
    "if module_path not in sys.path:\n",
    "    sys.path.append(module_path)\n",
    "from Process_Features import *"
   ]
  },
  {
   "cell_type": "code",
   "execution_count": 2,
   "id": "1ffd709c",
   "metadata": {},
   "outputs": [],
   "source": [
    "path = 'G://O meu disco//PhD//1st Study//data//'\n",
    "\n",
    "os.chdir(path)\n",
    "users={}\n",
    "for root, dirs, files in os.walk(path,\".xdf\"):\n",
    "   for fname in files:\n",
    "        users[fname]=Run_files(fname)"
   ]
  },
  {
   "cell_type": "code",
   "execution_count": 13,
   "id": "7ea0aaf7",
   "metadata": {},
   "outputs": [],
   "source": [
    "Signals_P1, EEG_Signals_P1, marker_P1, timestamps_P1 = correctP1(users)"
   ]
  },
  {
   "cell_type": "code",
   "execution_count": 14,
   "id": "7d059a3d",
   "metadata": {},
   "outputs": [
    {
     "name": "stdout",
     "output_type": "stream",
     "text": [
      "Using matplotlib backend: Qt5Agg\n"
     ]
    },
    {
     "data": {
      "text/plain": [
       "[<matplotlib.lines.Line2D at 0x166b4d527c8>]"
      ]
     },
     "execution_count": 14,
     "metadata": {},
     "output_type": "execute_result"
    }
   ],
   "source": [
    "#Opensignals Data Plots\n",
    "%matplotlib\n",
    "plt.figure(1)\n",
    "for timestamp,markers in zip(timestamps_P1,marker_P1):\n",
    "    if (markers[1] == '1'):\n",
    "        plt.axvline(x=timestamp,color='r')\n",
    "    elif(markers[1] == '0'):\n",
    "        plt.axvline(x=timestamp,color='g')\n",
    "plt.plot(Signals_P1[\"Time\"],Signals_P1[\"ECG\"],label=\"ECG\")\n",
    "plt.plot(Signals_P1[\"Time\"],Signals_P1[\"EDA\"],label=\"EDA\")\n",
    "plt.plot(Signals_P1[\"Time\"],Signals_P1[\"RESP\"],label=\"RESP\")\n",
    "plt.plot(Signals_P1[\"Time\"],Signals_P1[\"TEMP\"],label=\"TEMP\")\n",
    "plt.plot(Signals_P1[\"Time\"],Signals_P1[\"fNIRS_RED\"],label=\"fNIRS RED\")\n",
    "plt.plot(Signals_P1[\"Time\"],Signals_P1[\"fNIRS_IRED\"],label=\"fNIRS IRED\")"
   ]
  },
  {
   "cell_type": "code",
   "execution_count": 10,
   "id": "5caa6d2d",
   "metadata": {},
   "outputs": [
    {
     "data": {
      "text/plain": [
       "(50, 50)"
      ]
     },
     "execution_count": 10,
     "metadata": {},
     "output_type": "execute_result"
    }
   ],
   "source": [
    "Signals_P2, EEG_Signals_P2, marker_P2, timestamps_P2 = correctP2(users)\n",
    "len(marker_P2),len(timestamps_P2)"
   ]
  },
  {
   "cell_type": "code",
   "execution_count": 11,
   "id": "8d877968",
   "metadata": {},
   "outputs": [
    {
     "name": "stdout",
     "output_type": "stream",
     "text": [
      "Using matplotlib backend: Qt5Agg\n"
     ]
    },
    {
     "data": {
      "text/plain": [
       "[<matplotlib.lines.Line2D at 0x166af748748>]"
      ]
     },
     "execution_count": 11,
     "metadata": {},
     "output_type": "execute_result"
    }
   ],
   "source": [
    "#Opensignals Data Plots\n",
    "%matplotlib\n",
    "plt.figure(1)\n",
    "for timestamp,markers in zip(timestamps_P2,marker_P2):\n",
    "    if (markers[1] == '1'):\n",
    "        plt.axvline(x=timestamp,color='r')\n",
    "    elif(markers[1] == '0'):\n",
    "        plt.axvline(x=timestamp,color='g')\n",
    "plt.plot(Signals_P2[\"Time\"],Signals_P2[\"ECG\"],label=\"ECG\")\n",
    "plt.plot(Signals_P2[\"Time\"],Signals_P2[\"EDA\"],label=\"EDA\")\n",
    "plt.plot(Signals_P2[\"Time\"],Signals_P2[\"RESP\"],label=\"RESP\")\n",
    "plt.plot(Signals_P2[\"Time\"],Signals_P2[\"TEMP\"],label=\"TEMP\")\n",
    "plt.plot(Signals_P2[\"Time\"],Signals_P2[\"fNIRS_RED\"],label=\"fNIRS RED\")\n",
    "plt.plot(Signals_P2[\"Time\"],Signals_P2[\"fNIRS_IRED\"],label=\"fNIRS IRED\")\n",
    "\n",
    "# #EEG Data Plots\n",
    "# plt.figure(2)\n",
    "# for timestamp,markers in zip(timestamps,marker):\n",
    "#     if (markers[1] == '1'):\n",
    "#         plt.axvline(x=timestamp,color='r')\n",
    "#     elif(markers[1] == '0'):\n",
    "#         plt.axvline(x=timestamp,color='g')\n",
    "# for keys in EEG.keys():\n",
    "#     plt.plot(time_EEG,EEG[keys],label=keys)"
   ]
  },
  {
   "cell_type": "code",
   "execution_count": null,
   "id": "ce9bb2c3",
   "metadata": {},
   "outputs": [],
   "source": [
    "CH1, CH2, CH3, CH4, CH5, CH6, time_Opensignals, fs = Load_Opensignals(users[\"P2_S1_GroupA_eeg_1.xdf\"])\n",
    "time_Opensignals"
   ]
  },
  {
   "cell_type": "code",
   "execution_count": null,
   "id": "c7d4786f",
   "metadata": {},
   "outputs": [],
   "source": [
    "marker_1 = P1_markers\n",
    "marker_1"
   ]
  },
  {
   "cell_type": "code",
   "execution_count": null,
   "id": "895edbf9",
   "metadata": {},
   "outputs": [],
   "source": [
    "Signals = pd.concat([Signals, Signals_1])\n",
    "Signals"
   ]
  },
  {
   "cell_type": "code",
   "execution_count": null,
   "id": "b558dfd6",
   "metadata": {},
   "outputs": [],
   "source": [
    "%matplotlib\n",
    "plt.plot(Signals[\"Time\"],Signals[\"TEMP\"])"
   ]
  },
  {
   "cell_type": "code",
   "execution_count": null,
   "id": "a66168c8",
   "metadata": {},
   "outputs": [],
   "source": [
    "P1_markers,P1_timestamps = correctP1(users)\n",
    "P2_markers,P2_timestamps = correctP2(users)"
   ]
  },
  {
   "cell_type": "code",
   "execution_count": null,
   "id": "60e0f953",
   "metadata": {},
   "outputs": [],
   "source": [
    "P1_markers"
   ]
  },
  {
   "cell_type": "code",
   "execution_count": null,
   "id": "626a1fcd",
   "metadata": {},
   "outputs": [],
   "source": [
    "del users[\"P1_S2_GroupA_eeg_1.xdf\"]\n",
    "del users[\"P2_S1_GroupA_eeg_1.xdf\"]"
   ]
  },
  {
   "cell_type": "code",
   "execution_count": null,
   "id": "53d32065",
   "metadata": {},
   "outputs": [],
   "source": [
    "data={}\n",
    "for user in users.keys():\n",
    "    print(user)\n",
    "#     data[user] = Load_Data(users[user])"
   ]
  },
  {
   "cell_type": "code",
   "execution_count": null,
   "id": "03a417ba",
   "metadata": {},
   "outputs": [],
   "source": [
    "onset=list()\n",
    "offset=list()\n",
    "\n",
    "for timestamp,markers in zip(timestamps4,markers4):\n",
    "    if(markers[1] == '1' and \"baseline\" in markers[0]):\n",
    "        offset.append(timestamp)\n",
    "    if (markers[1] == '1' and \"baseline\" not in markers[0]):\n",
    "        offset.append(timestamp)\n",
    "    if(markers[1] == '0'):\n",
    "        onset.append(timestamp)"
   ]
  },
  {
   "cell_type": "code",
   "execution_count": null,
   "id": "b0c2d0e2",
   "metadata": {},
   "outputs": [],
   "source": [
    "for i in range(0,len(onset)):\n",
    "    print(offset[i]-onset[i])"
   ]
  },
  {
   "cell_type": "code",
   "execution_count": null,
   "id": "d839e9d0",
   "metadata": {},
   "outputs": [],
   "source": [
    "resolution = 16"
   ]
  },
  {
   "cell_type": "code",
   "execution_count": null,
   "id": "82e1c526",
   "metadata": {},
   "outputs": [],
   "source": [
    "Temp_Dataframe = Process_TEMP(CH4,fs,resolution)\n",
    "Temp_Dataframe"
   ]
  },
  {
   "cell_type": "code",
   "execution_count": null,
   "id": "54f15355",
   "metadata": {},
   "outputs": [],
   "source": [
    "HRV_Dataframe = Process_HRV(CH1,fs,resolution)\n",
    "HRV_Dataframe"
   ]
  },
  {
   "cell_type": "code",
   "execution_count": null,
   "id": "5ccee985",
   "metadata": {},
   "outputs": [],
   "source": [
    "fNIRS_Dataframe = Process_fNIRS(np.vstack((CH5,CH6)).T,fs,resolution)\n",
    "fNIRS_Dataframe"
   ]
  },
  {
   "cell_type": "code",
   "execution_count": null,
   "id": "b47c6cac",
   "metadata": {},
   "outputs": [],
   "source": [
    "RESP_Dataframe = Process_RESP(CH3,fs,resolution)\n",
    "RESP_Dataframe"
   ]
  },
  {
   "cell_type": "code",
   "execution_count": null,
   "id": "93b40e8c",
   "metadata": {},
   "outputs": [],
   "source": [
    "EDA_Dataframe = Process_EDA(CH2,fs,resolution)\n",
    "EDA_Dataframe"
   ]
  },
  {
   "cell_type": "code",
   "execution_count": null,
   "id": "8c729f7f",
   "metadata": {},
   "outputs": [],
   "source": [
    "EEG_Dataframe = Process_EEG(EEG_data,EEG_fs,resolution)\n",
    "EEG_Dataframe"
   ]
  },
  {
   "cell_type": "code",
   "execution_count": null,
   "id": "42ae5a6f",
   "metadata": {},
   "outputs": [],
   "source": [
    "Dataframe = (((HRV_Dataframe.join(EDA_Dataframe)).join(RESP_Dataframe)).join(fNIRS_Dataframe)).join(Temp_Dataframe)\n",
    "Dataframe"
   ]
  },
  {
   "cell_type": "code",
   "execution_count": null,
   "id": "228d0164",
   "metadata": {},
   "outputs": [],
   "source": [
    "Dataframe.insert(0, 'colC', EEG_Dataframe)"
   ]
  },
  {
   "cell_type": "code",
   "execution_count": null,
   "id": "2c241727",
   "metadata": {},
   "outputs": [],
   "source": []
  }
 ],
 "metadata": {
  "kernelspec": {
   "display_name": "Python 3",
   "language": "python",
   "name": "python3"
  },
  "language_info": {
   "codemirror_mode": {
    "name": "ipython",
    "version": 3
   },
   "file_extension": ".py",
   "mimetype": "text/x-python",
   "name": "python",
   "nbconvert_exporter": "python",
   "pygments_lexer": "ipython3",
   "version": "3.7.10"
  }
 },
 "nbformat": 4,
 "nbformat_minor": 5
}
