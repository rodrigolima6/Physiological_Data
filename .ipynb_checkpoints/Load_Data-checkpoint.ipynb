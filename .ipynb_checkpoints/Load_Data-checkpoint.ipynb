{
 "cells": [
  {
   "cell_type": "code",
   "execution_count": 70,
   "id": "078afbe7",
   "metadata": {},
   "outputs": [],
   "source": [
    "%reload_ext autoreload\n",
    "%autoreload 2\n",
    "\n",
    "from Load import *\n",
    "import numpy as np\n",
    "import os\n",
    "import biosignalsnotebooks as bsnb\n",
    "import sys\n",
    "import matplotlib.pyplot as plt\n",
    "module_path = os.path.abspath(os.path.join('C:\\\\Users\\\\Rodrigo\\\\Desktop\\\\PhD\\\\1st Study'))\n",
    "if module_path not in sys.path:\n",
    "    sys.path.append(module_path)\n",
    "from Process_Features import *"
   ]
  },
  {
   "cell_type": "code",
   "execution_count": 71,
   "id": "c98a8181",
   "metadata": {},
   "outputs": [],
   "source": [
    "data, header = pyxdf.load_xdf('G:\\\\O meu disco\\\\PhD\\\\1st Study\\\\data\\\\P3_S1_GroupA_eeg.xdf')"
   ]
  },
  {
   "cell_type": "code",
   "execution_count": 72,
   "id": "c596f019",
   "metadata": {},
   "outputs": [],
   "source": [
    "Signals,EEG_Signals,marker,timestamps = Load_Data(data)"
   ]
  },
  {
   "cell_type": "code",
   "execution_count": 73,
   "id": "95384afc",
   "metadata": {},
   "outputs": [],
   "source": [
    "marker,timestamps = Load_Psychopy(data)\n",
    "CH1,CH2,CH3,CH4,CH5,CH6,time_Opensignals,fs = Load_Opensignals(data)\n",
    "EEG_data,time_EEG,EEG_fs = Load_EEG(data)"
   ]
  },
  {
   "cell_type": "code",
   "execution_count": 74,
   "id": "3c4554d0",
   "metadata": {},
   "outputs": [
    {
     "data": {
      "text/plain": [
       "(2944192, 736384)"
      ]
     },
     "execution_count": 74,
     "metadata": {},
     "output_type": "execute_result"
    }
   ],
   "source": [
    "len(time_Opensignals),len(time_EEG)"
   ]
  },
  {
   "cell_type": "code",
   "execution_count": 75,
   "id": "1dff706b",
   "metadata": {},
   "outputs": [
    {
     "data": {
      "text/plain": [
       "(52, 52)"
      ]
     },
     "execution_count": 75,
     "metadata": {},
     "output_type": "execute_result"
    }
   ],
   "source": [
    "len(marker),len(timestamps)"
   ]
  },
  {
   "cell_type": "code",
   "execution_count": 76,
   "id": "8ea6d652",
   "metadata": {},
   "outputs": [
    {
     "data": {
      "text/plain": [
       "(26, 26)"
      ]
     },
     "execution_count": 76,
     "metadata": {},
     "output_type": "execute_result"
    }
   ],
   "source": [
    "onset,offset,videos = getMarkers(marker,timestamps)\n",
    "len(onset),len(offset)"
   ]
  },
  {
   "cell_type": "code",
   "execution_count": 77,
   "id": "1a889069",
   "metadata": {},
   "outputs": [
    {
     "data": {
      "text/plain": [
       "([198749.13323093991,\n",
       "  199264.1430306191,\n",
       "  199406.09365312272,\n",
       "  199528.40674264924,\n",
       "  199634.95222521987,\n",
       "  199740.9246574218,\n",
       "  199830.3241109011,\n",
       "  199958.14862039086,\n",
       "  200063.38971712434,\n",
       "  200177.42154783994,\n",
       "  200271.5174703065,\n",
       "  200377.16111662463,\n",
       "  200479.70299784106,\n",
       "  200578.43019591275,\n",
       "  200670.85865668335,\n",
       "  200753.68026750692,\n",
       "  200845.96278356077,\n",
       "  200933.67368104405,\n",
       "  201015.81937357388,\n",
       "  201104.88049585983,\n",
       "  201182.89785171772,\n",
       "  201264.9419353106,\n",
       "  201353.9151757295,\n",
       "  201441.14330488842,\n",
       "  201528.74780088017,\n",
       "  201612.48801639723],\n",
       " 0         198745.127516\n",
       " 1         198745.131516\n",
       " 2         198745.135516\n",
       " 3         198745.139516\n",
       " 4         198745.143516\n",
       "               ...      \n",
       " 736379    201690.643514\n",
       " 736380    201690.647514\n",
       " 736381    201690.651514\n",
       " 736382    201690.655514\n",
       " 736383    201690.659514\n",
       " Name: Time, Length: 736384, dtype: float64)"
      ]
     },
     "execution_count": 77,
     "metadata": {},
     "output_type": "execute_result"
    }
   ],
   "source": [
    "onset,EEG_Signals[\"Time\"]"
   ]
  },
  {
   "cell_type": "code",
   "execution_count": 78,
   "id": "851352fa",
   "metadata": {},
   "outputs": [
    {
     "name": "stdout",
     "output_type": "stream",
     "text": [
      "[  1002   1003   1004 ... 736381 736382 736383]\n",
      "[129754 129755 129756 ... 736381 736382 736383]\n",
      "[165242 165243 165244 ... 736381 736382 736383]\n",
      "[195820 195821 195822 ... 736381 736382 736383]\n",
      "[222457 222458 222459 ... 736381 736382 736383]\n",
      "[248950 248951 248952 ... 736381 736382 736383]\n",
      "[271300 271301 271302 ... 736381 736382 736383]\n",
      "[303256 303257 303258 ... 736381 736382 736383]\n",
      "[329566 329567 329568 ... 736381 736382 736383]\n",
      "[358074 358075 358076 ... 736381 736382 736383]\n",
      "[381598 381599 381600 ... 736381 736382 736383]\n",
      "[408009 408010 408011 ... 736381 736382 736383]\n",
      "[433644 433645 433646 ... 736381 736382 736383]\n",
      "[458326 458327 458328 ... 736381 736382 736383]\n",
      "[481433 481434 481435 ... 736381 736382 736383]\n",
      "[502139 502140 502141 ... 736381 736382 736383]\n",
      "[525209 525210 525211 ... 736381 736382 736383]\n",
      "[547137 547138 547139 ... 736381 736382 736383]\n",
      "[567673 567674 567675 ... 736381 736382 736383]\n",
      "[589939 589940 589941 ... 736381 736382 736383]\n",
      "[609443 609444 609445 ... 736381 736382 736383]\n",
      "[629954 629955 629956 ... 736381 736382 736383]\n",
      "[652197 652198 652199 ... 736381 736382 736383]\n",
      "[674004 674005 674006 ... 736381 736382 736383]\n",
      "[695906 695907 695908 ... 736381 736382 736383]\n",
      "[716841 716842 716843 ... 736381 736382 736383]\n"
     ]
    }
   ],
   "source": [
    "for i in range(0,len(onset)):\n",
    "    print(np.where(EEG_Signals[\"Time\"] >= onset[i])[0])"
   ]
  },
  {
   "cell_type": "code",
   "execution_count": 79,
   "id": "196a4172",
   "metadata": {},
   "outputs": [],
   "source": [
    "onset_index,offset_index = getMarkersIndex(onset,offset,time_Opensignals)\n",
    "onset_index_EEG,offset_index_EEG = getMarkersIndex(onset,offset,time_EEG)"
   ]
  },
  {
   "cell_type": "code",
   "execution_count": 80,
   "id": "1b59bade",
   "metadata": {},
   "outputs": [],
   "source": [
    "timestamps-=time_Opensignals[0]\n",
    "time_Opensignals -= time_Opensignals[0]\n",
    "time_EEG -= time_EEG[0]"
   ]
  },
  {
   "cell_type": "code",
   "execution_count": 81,
   "id": "7d40d872",
   "metadata": {},
   "outputs": [
    {
     "data": {
      "text/plain": [
       "[['baseline', '0'],\n",
       " ['baseline', '1'],\n",
       " ['EMDB/A/Horror/1002.avi', '0'],\n",
       " ['EMDB/A/Horror/1002.avi', '1'],\n",
       " ['EMDB/A/Horror/1004.avi', '0'],\n",
       " ['EMDB/A/Horror/1004.avi', '1'],\n",
       " ['EMDB/A/Horror/1000.avi', '0'],\n",
       " ['EMDB/A/Horror/1000.avi', '1'],\n",
       " ['EMDB/A/Horror/1001.avi', '0'],\n",
       " ['EMDB/A/Horror/1001.avi', '1'],\n",
       " ['EMDB/A/Horror/1003.avi', '0'],\n",
       " ['EMDB/A/Horror/1003.avi', '1'],\n",
       " ['EMDB/A/Erotic/2001.avi', '0'],\n",
       " ['EMDB/A/Erotic/2001.avi', '1'],\n",
       " ['EMDB/A/Erotic/2004.avi', '0'],\n",
       " ['EMDB/A/Erotic/2004.avi', '1'],\n",
       " ['EMDB/A/Erotic/2000.avi', '0'],\n",
       " ['EMDB/A/Erotic/2000.avi', '1'],\n",
       " ['EMDB/A/Erotic/2003.avi', '0'],\n",
       " ['EMDB/A/Erotic/2003.avi', '1'],\n",
       " ['EMDB/A/Erotic/2002.avi', '0'],\n",
       " ['EMDB/A/Erotic/2002.avi', '1'],\n",
       " ['EMDB/A/Social Negative/3003.avi', '0'],\n",
       " ['EMDB/A/Social Negative/3003.avi', '1'],\n",
       " ['EMDB/A/Social Negative/3002.avi', '0'],\n",
       " ['EMDB/A/Social Negative/3002.avi', '1'],\n",
       " ['EMDB/A/Social Negative/3001.avi', '0'],\n",
       " ['EMDB/A/Social Negative/3001.avi', '1'],\n",
       " ['EMDB/A/Social Negative/3000.avi', '0'],\n",
       " ['EMDB/A/Social Negative/3000.avi', '1'],\n",
       " ['EMDB/A/Social Negative/3004.avi', '0'],\n",
       " ['EMDB/A/Social Negative/3004.avi', '1'],\n",
       " ['EMDB/A/Scenery/5002.avi', '0'],\n",
       " ['EMDB/A/Scenery/5002.avi', '1'],\n",
       " ['EMDB/A/Scenery/5000.avi', '0'],\n",
       " ['EMDB/A/Scenery/5000.avi', '1'],\n",
       " ['EMDB/A/Scenery/5004.avi', '0'],\n",
       " ['EMDB/A/Scenery/5004.avi', '1'],\n",
       " ['EMDB/A/Scenery/5001.avi', '0'],\n",
       " ['EMDB/A/Scenery/5001.avi', '1'],\n",
       " ['EMDB/A/Scenery/5003.avi', '0'],\n",
       " ['EMDB/A/Scenery/5003.avi', '1'],\n",
       " ['EMDB/A/Social Positive/4002.avi', '0'],\n",
       " ['EMDB/A/Social Positive/4002.avi', '1'],\n",
       " ['EMDB/A/Social Positive/4001.avi', '0'],\n",
       " ['EMDB/A/Social Positive/4001.avi', '1'],\n",
       " ['EMDB/A/Social Positive/4000.avi', '0'],\n",
       " ['EMDB/A/Social Positive/4000.avi', '1'],\n",
       " ['EMDB/A/Social Positive/4004.avi', '0'],\n",
       " ['EMDB/A/Social Positive/4004.avi', '1'],\n",
       " ['EMDB/A/Social Positive/4003.avi', '0'],\n",
       " ['EMDB/A/Social Positive/4003.avi', '1']]"
      ]
     },
     "execution_count": 81,
     "metadata": {},
     "output_type": "execute_result"
    }
   ],
   "source": [
    "marker"
   ]
  },
  {
   "cell_type": "code",
   "execution_count": 88,
   "id": "d6c4579f",
   "metadata": {},
   "outputs": [
    {
     "name": "stderr",
     "output_type": "stream",
     "text": [
      "No handles with labels found to put in legend.\n"
     ]
    },
    {
     "name": "stdout",
     "output_type": "stream",
     "text": [
      "Using matplotlib backend: Qt5Agg\n"
     ]
    },
    {
     "data": {
      "text/plain": [
       "<matplotlib.legend.Legend at 0x1b750474848>"
      ]
     },
     "execution_count": 88,
     "metadata": {},
     "output_type": "execute_result"
    }
   ],
   "source": [
    "#Opensignals Data Plots\n",
    "%matplotlib\n",
    "plt.figure(1)\n",
    "for timestamp,markers in zip(timestamps,marker):\n",
    "    if (markers[1] == '1'):\n",
    "        plt.axvline(x=timestamp,color='r')\n",
    "    elif(markers[1] == '0'):\n",
    "        plt.axvline(x=timestamp,color='g')\n",
    "# plt.plot(time_Opensignals,CH1,label=\"ECG\")\n",
    "# plt.plot(time_Opensignals[peaks],CH1[peaks],'r',marker=\"o\",ls=\"\")\n",
    "# plt.plot(time_Opensignals,CH2,label=\"EDA\")\n",
    "# plt.plot(time_Opensignals,CH3,label=\"RESP\")\n",
    "# plt.plot(time_Opensignals,CH4,label=\"TEMP\")\n",
    "# plt.plot(time_Opensignals,CH5,label=\"fNIRS RED\")\n",
    "# plt.plot(time_Opensignals,CH6,label=\"fNIRS IRED\")\n",
    "plt.xticks(fontsize=16)\n",
    "plt.yticks(fontsize=16)\n",
    "plt.xlabel(\"Time (s)\", fontsize=16)\n",
    "plt.ylabel(\"Amplitude\",fontsize=16)\n",
    "plt.legend()\n",
    "# #EEG Data Plots\n",
    "# plt.figure(2)\n",
    "# for timestamp,markers in zip(timestamps,marker):\n",
    "#     if (markers[1] == '1'):\n",
    "#         plt.axvline(x=timestamp,color='r')\n",
    "#     elif(markers[1] == '0'):\n",
    "#         plt.axvline(x=timestamp,color='g')\n",
    "# for keys in EEG.keys():\n",
    "#     plt.plot(time_EEG,EEG[keys],label=keys)"
   ]
  },
  {
   "cell_type": "code",
   "execution_count": null,
   "id": "5f12467d",
   "metadata": {},
   "outputs": [],
   "source": []
  }
 ],
 "metadata": {
  "kernelspec": {
   "display_name": "Python 3",
   "language": "python",
   "name": "python3"
  },
  "language_info": {
   "codemirror_mode": {
    "name": "ipython",
    "version": 3
   },
   "file_extension": ".py",
   "mimetype": "text/x-python",
   "name": "python",
   "nbconvert_exporter": "python",
   "pygments_lexer": "ipython3",
   "version": "3.7.10"
  }
 },
 "nbformat": 4,
 "nbformat_minor": 5
}
