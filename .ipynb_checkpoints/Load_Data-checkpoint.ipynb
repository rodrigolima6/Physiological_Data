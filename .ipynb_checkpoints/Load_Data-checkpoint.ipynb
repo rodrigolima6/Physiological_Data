{
 "cells": [
  {
   "cell_type": "code",
   "execution_count": 1,
   "id": "fe9e309a",
   "metadata": {},
   "outputs": [],
   "source": [
    "import pyxdf"
   ]
  },
  {
   "cell_type": "code",
   "execution_count": 2,
   "id": "d44e7c58",
   "metadata": {},
   "outputs": [],
   "source": [
    "data, header = pyxdf.load_xdf('C:/Users/Rodrigo/Documents/CurrentStudy/sub-P001/ses-S001/eeg/sub-P001_ses-S001_task-Default_run-001_eeg_old1.xdf')"
   ]
  },
  {
   "cell_type": "code",
   "execution_count": 3,
   "id": "6f098127",
   "metadata": {},
   "outputs": [],
   "source": [
    "#PsychoPy Images Markers\n",
    "for stream in data:\n",
    "    if(stream['info']['name'][0] == \"PsychoPyStream\"):\n",
    "        marker=stream['time_series']\n",
    "        timestamps=stream['time_stamps']"
   ]
  },
  {
   "cell_type": "code",
   "execution_count": 4,
   "id": "db4b51a1",
   "metadata": {},
   "outputs": [],
   "source": [
    "for stream in data:\n",
    "    if(stream['info']['name'][0] == \"OpenSignals\"):\n",
    "        CH1 = stream['time_series'][:,1] #ECG\n",
    "        CH2 = stream['time_series'][:,2] #EDA\n",
    "        CH3 = stream['time_series'][:,3] #RESP\n",
    "#         CH4 = stream['time_series'][:,4]\n",
    "#         CH5 = stream['time_series'][:,5]\n",
    "        time_Opensignals=stream['time_stamps']"
   ]
  },
  {
   "cell_type": "code",
   "execution_count": 5,
   "id": "968ef9cd",
   "metadata": {},
   "outputs": [],
   "source": [
    "for stream in data:\n",
    "    if(stream['info']['name'][0] == \"EEG-EEG\"):\n",
    "        EEG_1= stream['time_series'][:,0]\n",
    "        EEG_2 = stream['time_series'][:,1]\n",
    "        EEG_3 = stream['time_series'][:,2]\n",
    "        EEG_4 = stream['time_series'][:,3]\n",
    "        EEG_5 = stream['time_series'][:,4]\n",
    "        EEG_6 = stream['time_series'][:,5]\n",
    "        EEG_7 = stream['time_series'][:,6]\n",
    "        EEG_8 = stream['time_series'][:,7]\n",
    "        time_EEG = stream['time_stamps']"
   ]
  },
  {
   "cell_type": "code",
   "execution_count": null,
   "id": "2e171133",
   "metadata": {},
   "outputs": [],
   "source": []
  }
 ],
 "metadata": {
  "kernelspec": {
   "display_name": "Python 3",
   "language": "python",
   "name": "python3"
  },
  "language_info": {
   "codemirror_mode": {
    "name": "ipython",
    "version": 3
   },
   "file_extension": ".py",
   "mimetype": "text/x-python",
   "name": "python",
   "nbconvert_exporter": "python",
   "pygments_lexer": "ipython3",
   "version": "3.7.10"
  }
 },
 "nbformat": 4,
 "nbformat_minor": 5
}
