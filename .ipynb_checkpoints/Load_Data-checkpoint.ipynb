{
 "cells": [
  {
   "cell_type": "code",
   "execution_count": 1,
   "id": "078afbe7",
   "metadata": {},
   "outputs": [],
   "source": [
    "from Load import *\n",
    "import matplotlib.pyplot as plt"
   ]
  },
  {
   "cell_type": "code",
   "execution_count": 2,
   "id": "c98a8181",
   "metadata": {},
   "outputs": [],
   "source": [
    "data, header = pyxdf.load_xdf('C:\\\\Users\\\\Rodrigo\\\\Documents\\\\CurrentStudy\\\\sub-P001\\\\ses-S001\\\\eeg\\\\sub-P001_ses-S001_task-Default_run-001_eeg_AM.xdf')"
   ]
  },
  {
   "cell_type": "code",
   "execution_count": 3,
   "id": "95384afc",
   "metadata": {},
   "outputs": [],
   "source": [
    "marker,timestamps = Load_Psychopy(data)\n",
    "CH1,CH2,CH3,CH4,time_Opensignals,fs = Load_Opensignals(data)\n",
    "EEG,time_EEG,EEG_fs = Load_EEG(data)"
   ]
  },
  {
   "cell_type": "code",
   "execution_count": 4,
   "id": "3c2ffec3",
   "metadata": {},
   "outputs": [
    {
     "data": {
      "text/plain": [
       "(1000, 250)"
      ]
     },
     "execution_count": 4,
     "metadata": {},
     "output_type": "execute_result"
    }
   ],
   "source": [
    "fs,EEG_fs"
   ]
  },
  {
   "cell_type": "code",
   "execution_count": 5,
   "id": "1b59bade",
   "metadata": {},
   "outputs": [],
   "source": [
    "timestamps-=time_Opensignals[0]\n",
    "time_Opensignals -= time_Opensignals[0]\n",
    "time_EEG -= time_EEG[0]"
   ]
  },
  {
   "cell_type": "code",
   "execution_count": 6,
   "id": "a1a8c3b8",
   "metadata": {},
   "outputs": [
    {
     "data": {
      "text/plain": [
       "[['baseline', '0'],\n",
       " ['baseline', '1'],\n",
       " ['EMDB/A/Erotic/2000.avi', '0'],\n",
       " ['EMDB/A/Erotic/2000.avi', '1'],\n",
       " ['EMDB/A/Erotic/2003.avi', '0'],\n",
       " ['EMDB/A/Erotic/2003.avi', '1'],\n",
       " ['EMDB/A/Erotic/2002.avi', '0'],\n",
       " ['EMDB/A/Erotic/2002.avi', '1'],\n",
       " ['EMDB/A/Erotic/2001.avi', '0'],\n",
       " ['EMDB/A/Erotic/2001.avi', '1'],\n",
       " ['EMDB/A/Erotic/2004.avi', '0'],\n",
       " ['EMDB/A/Erotic/2004.avi', '1'],\n",
       " ['EMDB/A/Social Negative/3000.avi', '0'],\n",
       " ['EMDB/A/Social Negative/3000.avi', '1'],\n",
       " ['EMDB/A/Social Negative/3004.avi', '0'],\n",
       " ['EMDB/A/Social Negative/3004.avi', '1'],\n",
       " ['EMDB/A/Social Negative/3001.avi', '0'],\n",
       " ['EMDB/A/Social Negative/3001.avi', '1'],\n",
       " ['EMDB/A/Social Negative/3003.avi', '0'],\n",
       " ['EMDB/A/Social Negative/3003.avi', '1'],\n",
       " ['EMDB/A/Social Negative/3002.avi', '0'],\n",
       " ['EMDB/A/Social Negative/3002.avi', '1'],\n",
       " ['EMDB/A/Horror/1002.avi', '0'],\n",
       " ['EMDB/A/Horror/1002.avi', '1'],\n",
       " ['EMDB/A/Horror/1000.avi', '0'],\n",
       " ['EMDB/A/Horror/1000.avi', '1'],\n",
       " ['EMDB/A/Horror/1003.avi', '0'],\n",
       " ['EMDB/A/Horror/1003.avi', '1'],\n",
       " ['EMDB/A/Horror/1004.avi', '0'],\n",
       " ['EMDB/A/Horror/1004.avi', '1'],\n",
       " ['EMDB/A/Horror/1001.avi', '0'],\n",
       " ['EMDB/A/Horror/1001.avi', '1'],\n",
       " ['EMDB/A/Social Positive/4004.avi', '0'],\n",
       " ['EMDB/A/Social Positive/4004.avi', '1'],\n",
       " ['EMDB/A/Social Positive/4003.avi', '0'],\n",
       " ['EMDB/A/Social Positive/4003.avi', '1'],\n",
       " ['EMDB/A/Social Positive/4001.avi', '0'],\n",
       " ['EMDB/A/Social Positive/4001.avi', '1']]"
      ]
     },
     "execution_count": 6,
     "metadata": {},
     "output_type": "execute_result"
    }
   ],
   "source": [
    "marker"
   ]
  },
  {
   "cell_type": "code",
   "execution_count": null,
   "id": "93e434bf",
   "metadata": {},
   "outputs": [],
   "source": []
  }
 ],
 "metadata": {
  "kernelspec": {
   "display_name": "Python 3",
   "language": "python",
   "name": "python3"
  },
  "language_info": {
   "codemirror_mode": {
    "name": "ipython",
    "version": 3
   },
   "file_extension": ".py",
   "mimetype": "text/x-python",
   "name": "python",
   "nbconvert_exporter": "python",
   "pygments_lexer": "ipython3",
   "version": "3.7.10"
  }
 },
 "nbformat": 4,
 "nbformat_minor": 5
}
