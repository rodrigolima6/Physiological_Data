{
 "cells": [
  {
   "cell_type": "code",
   "execution_count": 6,
   "id": "27253a82",
   "metadata": {},
   "outputs": [],
   "source": [
    "import os\n",
    "import sys\n",
    "module_path = os.path.abspath(os.path.join('C:\\\\Users\\\\Rodrigo\\\\Desktop\\\\PhD\\\\1st Study'))\n",
    "if module_path not in sys.path:\n",
    "    sys.path.append(module_path)\n",
    "import matplotlib.pyplot as plt\n",
    "import import_ipynb\n",
    "from Load_Data import *"
   ]
  },
  {
   "cell_type": "code",
   "execution_count": 2,
   "id": "e1899d48",
   "metadata": {},
   "outputs": [
    {
     "name": "stdout",
     "output_type": "stream",
     "text": [
      "Using matplotlib backend: Qt5Agg\n"
     ]
    },
    {
     "data": {
      "text/plain": [
       "[<matplotlib.lines.Line2D at 0x21efe15e348>]"
      ]
     },
     "execution_count": 2,
     "metadata": {},
     "output_type": "execute_result"
    }
   ],
   "source": [
    "#Opensignals Data Plots\n",
    "%matplotlib\n",
    "plt.figure()\n",
    "for timestamp,markers in zip(timestamps,marker):\n",
    "    if (markers[1] == '1'):\n",
    "        plt.axvline(x=timestamp,color='r')\n",
    "    elif(markers[1] == '0'):\n",
    "        plt.axvline(x=timestamp,color='g')\n",
    "plt.plot(time_Opensignals,CH1,label=\"ECG\")\n",
    "plt.plot(time_Opensignals,CH2,label=\"EDA\")\n",
    "plt.plot(time_Opensignals,CH3,label=\"RESP\")\n",
    "plt.plot(time_Opensignals,CH4,label=\"TEMP\")\n",
    "# plt.plot(time_Opensignals,CH5,label=\"TEMP\")"
   ]
  },
  {
   "cell_type": "code",
   "execution_count": 9,
   "id": "3d5cdb6a",
   "metadata": {},
   "outputs": [
    {
     "name": "stdout",
     "output_type": "stream",
     "text": [
      "Using matplotlib backend: Qt5Agg\n"
     ]
    }
   ],
   "source": [
    "#EEG Data Plots\n",
    "%matplotlib\n",
    "plt.figure()\n",
    "for timestamp,markers in zip(timestamps,marker):\n",
    "    if (markers[1] == '1'):\n",
    "        plt.axvline(x=timestamp,color='r')\n",
    "    elif(markers[1] == '0'):\n",
    "        plt.axvline(x=timestamp,color='g')\n",
    "for keys in EEG.keys():\n",
    "    plt.plot(time_EEG,EEG[keys],label=keys)"
   ]
  },
  {
   "cell_type": "code",
   "execution_count": null,
   "id": "eaa00295",
   "metadata": {},
   "outputs": [],
   "source": []
  }
 ],
 "metadata": {
  "kernelspec": {
   "display_name": "Python 3",
   "language": "python",
   "name": "python3"
  },
  "language_info": {
   "codemirror_mode": {
    "name": "ipython",
    "version": 3
   },
   "file_extension": ".py",
   "mimetype": "text/x-python",
   "name": "python",
   "nbconvert_exporter": "python",
   "pygments_lexer": "ipython3",
   "version": "3.7.10"
  }
 },
 "nbformat": 4,
 "nbformat_minor": 5
}
