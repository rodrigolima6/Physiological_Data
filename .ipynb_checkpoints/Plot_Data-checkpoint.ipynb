{
 "cells": [
  {
   "cell_type": "code",
   "execution_count": 1,
   "id": "27253a82",
   "metadata": {},
   "outputs": [
    {
     "name": "stdout",
     "output_type": "stream",
     "text": [
      "importing Jupyter notebook from Load_Data.ipynb\n"
     ]
    }
   ],
   "source": [
    "import matplotlib.pyplot as plt\n",
    "import import_ipynb\n",
    "from Load_Data import *"
   ]
  },
  {
   "cell_type": "code",
   "execution_count": 2,
   "id": "62930a07",
   "metadata": {},
   "outputs": [
    {
     "name": "stdout",
     "output_type": "stream",
     "text": [
      "Using matplotlib backend: Qt5Agg\n"
     ]
    },
    {
     "data": {
      "text/plain": [
       "[<matplotlib.lines.Line2D at 0x1b5762c4608>]"
      ]
     },
     "execution_count": 2,
     "metadata": {},
     "output_type": "execute_result"
    }
   ],
   "source": [
    "#Opensignals Data Plots\n",
    "%matplotlib\n",
    "plt.figure()\n",
    "plt.subplot(311)\n",
    "plt.plot(time_Opensignals,CH1,label=\"ECG\")\n",
    "plt.subplot(312)\n",
    "plt.plot(time_Opensignals,CH2,label=\"EDA\")\n",
    "plt.subplot(313)\n",
    "plt.plot(time_Opensignals,CH3,label=\"RESP\")"
   ]
  },
  {
   "cell_type": "code",
   "execution_count": null,
   "id": "e1899d48",
   "metadata": {},
   "outputs": [],
   "source": [
    "#Opensignals Data Plots\n",
    "%matplotlib\n",
    "plt.figure()\n",
    "for timestamp,markers in zip(timestamps,marker):\n",
    "    if (markers[1] == '1'):\n",
    "        plt.axvline(x=timestamp,color='r')\n",
    "    elif(markers[1] == '0'):\n",
    "        plt.axvline(x=timestamp,color='g')\n",
    "plt.plot(time_Opensignals,CH1,label=\"ECG\")\n",
    "plt.plot(time_Opensignals,CH2,label=\"EDA\")\n",
    "plt.plot(time_Opensignals,CH3,label=\"RESP\")\n",
    "# plt.plot(time_Opensignals,CH4,label=\"CH4\")\n",
    "# plt.plot(time_Opensignals,CH5,label=\"CH5\")"
   ]
  },
  {
   "cell_type": "code",
   "execution_count": null,
   "id": "3d5cdb6a",
   "metadata": {},
   "outputs": [],
   "source": [
    "#EEG Data Plots\n",
    "%matplotlib\n",
    "plt.figure()\n",
    "for timestamp,markers in zip(timestamps,marker):\n",
    "    if (markers[1] == '1'):\n",
    "        plt.axvline(x=timestamp,color='r')\n",
    "    elif(markers[1] == '0'):\n",
    "        plt.axvline(x=timestamp,color='g')\n",
    "plt.plot(time_EEG,EEG_1,label=\"EEG_1\")\n",
    "plt.plot(time_EEG,EEG_2,label=\"EEG_2\")\n",
    "plt.plot(time_EEG,EEG_3,label=\"EEG_3\")\n",
    "plt.plot(time_EEG,EEG_4,label=\"EEG_4\")\n",
    "plt.plot(time_EEG,EEG_5,label=\"EEG_5\")\n",
    "plt.plot(time_EEG,EEG_6,label=\"EEG_6\")\n",
    "plt.plot(time_EEG,EEG_7,label=\"EEG_7\")\n",
    "plt.plot(time_EEG,EEG_8,label=\"EEG_8\")"
   ]
  }
 ],
 "metadata": {
  "kernelspec": {
   "display_name": "Python 3",
   "language": "python",
   "name": "python3"
  },
  "language_info": {
   "codemirror_mode": {
    "name": "ipython",
    "version": 3
   },
   "file_extension": ".py",
   "mimetype": "text/x-python",
   "name": "python",
   "nbconvert_exporter": "python",
   "pygments_lexer": "ipython3",
   "version": "3.7.10"
  }
 },
 "nbformat": 4,
 "nbformat_minor": 5
}
