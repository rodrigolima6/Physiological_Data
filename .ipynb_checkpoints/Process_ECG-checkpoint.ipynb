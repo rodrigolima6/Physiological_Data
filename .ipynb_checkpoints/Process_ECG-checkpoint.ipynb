{
 "cells": [
  {
   "cell_type": "code",
   "execution_count": 8,
   "id": "842dc9fe",
   "metadata": {},
   "outputs": [],
   "source": [
    "import import_ipynb\n",
    "import matplotlib.pyplot as plt\n",
    "# plt.switch_backend('Qt5Agg')\n",
    "from Load_Data import *\n",
    "import numpy as np\n",
    "import biosignalsnotebooks as bsnb\n",
    "import novainstrumentation as ni\n",
    "import os\n",
    "import lib\n",
    "from lib.biosignals import *\n",
    "from lib.acquisition import *\n",
    "from lib.sensors import *\n",
    "import scipy as sc\n",
    "import json"
   ]
  },
  {
   "cell_type": "code",
   "execution_count": 9,
   "id": "2c9372c5",
   "metadata": {},
   "outputs": [],
   "source": [
    "sampling_rate = 1000\n",
    "resolution = 16"
   ]
  },
  {
   "cell_type": "code",
   "execution_count": 10,
   "id": "8a7b2a45",
   "metadata": {},
   "outputs": [],
   "source": [
    "sensor = ECG(CH1,sampling_rate,resolution)\n",
    "ecg = sensor.data\n",
    "fs = sensor.fs\n",
    "resolution = sensor.resolution"
   ]
  },
  {
   "cell_type": "code",
   "execution_count": 11,
   "id": "c1332352",
   "metadata": {},
   "outputs": [],
   "source": [
    "time=bsnb.generate_time(ecg,fs)"
   ]
  },
  {
   "cell_type": "code",
   "execution_count": 12,
   "id": "dded0e7d",
   "metadata": {},
   "outputs": [
    {
     "data": {
      "text/plain": [
       "46.4272"
      ]
     },
     "execution_count": 12,
     "metadata": {},
     "output_type": "execute_result"
    }
   ],
   "source": [
    "time[-1]/60 #minutes"
   ]
  },
  {
   "cell_type": "code",
   "execution_count": 13,
   "id": "00a70e8e",
   "metadata": {},
   "outputs": [],
   "source": [
    "time_peaks, amp_peaks = sensor.detectRPeaks()"
   ]
  },
  {
   "cell_type": "code",
   "execution_count": 14,
   "id": "dd894e3b",
   "metadata": {},
   "outputs": [
    {
     "name": "stdout",
     "output_type": "stream",
     "text": [
      "Using matplotlib backend: Qt5Agg\n"
     ]
    },
    {
     "data": {
      "text/plain": [
       "[<matplotlib.lines.Line2D at 0x21b0b9d89c8>]"
      ]
     },
     "execution_count": 14,
     "metadata": {},
     "output_type": "execute_result"
    }
   ],
   "source": [
    "%matplotlib\n",
    "plt.figure()\n",
    "plt.plot(time,ecg)\n",
    "plt.plot(time_peaks,amp_peaks,marker=\"o\",color=\"g\",ls=\"\")"
   ]
  },
  {
   "cell_type": "code",
   "execution_count": 15,
   "id": "d5fddbab",
   "metadata": {},
   "outputs": [],
   "source": [
    "ecg_peaks = ni.panthomkins.panthomkins(CH1,sampling_rate)\n",
    "time = np.arange(0,len(CH1)*1/sampling_rate,1/sampling_rate)"
   ]
  },
  {
   "cell_type": "code",
   "execution_count": 21,
   "id": "40f85820",
   "metadata": {},
   "outputs": [
    {
     "name": "stdout",
     "output_type": "stream",
     "text": [
      "Using matplotlib backend: Qt5Agg\n"
     ]
    },
    {
     "data": {
      "text/plain": [
       "[<matplotlib.lines.Line2D at 0x21b01a46448>]"
      ]
     },
     "execution_count": 21,
     "metadata": {},
     "output_type": "execute_result"
    }
   ],
   "source": [
    "%matplotlib\n",
    "plt.figure()\n",
    "plt.plot(time,CH1,'k')\n",
    "plt.plot(time[ecg_peaks],CH1[ecg_peaks],marker=\"o\",color='r',ls=\"\")"
   ]
  },
  {
   "cell_type": "code",
   "execution_count": 17,
   "id": "357f46cd",
   "metadata": {},
   "outputs": [
    {
     "data": {
      "text/plain": [
       "3546"
      ]
     },
     "execution_count": 17,
     "metadata": {},
     "output_type": "execute_result"
    }
   ],
   "source": [
    "len(ecg_peaks)"
   ]
  },
  {
   "cell_type": "code",
   "execution_count": 18,
   "id": "c7177c27",
   "metadata": {},
   "outputs": [
    {
     "data": {
      "text/plain": [
       "array([2.53000091e-01, 1.10600040e+00, 1.94500070e+00, ...,\n",
       "       2.78294800e+03, 2.78378200e+03, 2.78456800e+03])"
      ]
     },
     "execution_count": 18,
     "metadata": {},
     "output_type": "execute_result"
    }
   ],
   "source": [
    "time_peaks"
   ]
  },
  {
   "cell_type": "code",
   "execution_count": 19,
   "id": "62984f29",
   "metadata": {},
   "outputs": [
    {
     "data": {
      "text/plain": [
       "array([2.580000e-01, 1.111000e+00, 1.950000e+00, ..., 2.783776e+03,\n",
       "       2.784576e+03, 2.785408e+03])"
      ]
     },
     "execution_count": 19,
     "metadata": {},
     "output_type": "execute_result"
    }
   ],
   "source": [
    "time[ecg_peaks]"
   ]
  },
  {
   "cell_type": "code",
   "execution_count": null,
   "id": "bb96a6bf",
   "metadata": {},
   "outputs": [],
   "source": []
  }
 ],
 "metadata": {
  "kernelspec": {
   "display_name": "Python 3",
   "language": "python",
   "name": "python3"
  },
  "language_info": {
   "codemirror_mode": {
    "name": "ipython",
    "version": 3
   },
   "file_extension": ".py",
   "mimetype": "text/x-python",
   "name": "python",
   "nbconvert_exporter": "python",
   "pygments_lexer": "ipython3",
   "version": "3.7.10"
  }
 },
 "nbformat": 4,
 "nbformat_minor": 5
}
