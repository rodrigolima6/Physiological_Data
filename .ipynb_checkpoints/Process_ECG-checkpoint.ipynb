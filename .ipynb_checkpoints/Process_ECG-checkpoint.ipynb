{
 "cells": [
  {
   "cell_type": "code",
   "execution_count": 3,
   "id": "842dc9fe",
   "metadata": {},
   "outputs": [],
   "source": [
    "import import_ipynb\n",
    "import sys\n",
    "import os\n",
    "# plt.switch_backend('Qt5Agg')\n",
    "from Load_Data import *\n",
    "module_path = os.path.abspath(os.path.join('C:\\\\Users\\\\Rodrigo\\\\Desktop\\\\PhD\\\\1st Study'))\n",
    "if module_path not in sys.path:\n",
    "    sys.path.append(module_path)\n",
    "from lib.biosignals import *\n",
    "from lib.acquisition import *\n",
    "from lib.sensors import *\n",
    "import novainstrumentation as ni"
   ]
  },
  {
   "cell_type": "code",
   "execution_count": 4,
   "id": "8a7b2a45",
   "metadata": {},
   "outputs": [],
   "source": [
    "sensor = ECG(CH1,fs,16)\n",
    "ecg = np.array(sensor.data)\n",
    "fs = sensor.fs\n",
    "resolution = sensor.resolution"
   ]
  },
  {
   "cell_type": "code",
   "execution_count": 5,
   "id": "c1332352",
   "metadata": {},
   "outputs": [],
   "source": [
    "time=np.array(bsnb.generate_time(ecg,fs))"
   ]
  },
  {
   "cell_type": "code",
   "execution_count": 6,
   "id": "dded0e7d",
   "metadata": {},
   "outputs": [
    {
     "data": {
      "text/plain": [
       "36.269866666666665"
      ]
     },
     "execution_count": 6,
     "metadata": {},
     "output_type": "execute_result"
    }
   ],
   "source": [
    "time[-1]/60 #minutes"
   ]
  },
  {
   "cell_type": "code",
   "execution_count": 7,
   "id": "801d9d4a",
   "metadata": {},
   "outputs": [
    {
     "data": {
      "text/plain": [
       "array([    495,    1287,    2149, ..., 2174601, 2175348, 2176098])"
      ]
     },
     "execution_count": 7,
     "metadata": {},
     "output_type": "execute_result"
    }
   ],
   "source": [
    "peaks = ni.panthomkins.panthomkins(ecg,fs)\n",
    "peaks"
   ]
  },
  {
   "cell_type": "code",
   "execution_count": 8,
   "id": "6a2ec7e0",
   "metadata": {},
   "outputs": [
    {
     "data": {
      "text/plain": [
       "array([4.9500000e-01, 1.2870000e+00, 2.1490000e+00, ..., 2.1746019e+03,\n",
       "       2.1753489e+03, 2.1760989e+03])"
      ]
     },
     "execution_count": 8,
     "metadata": {},
     "output_type": "execute_result"
    }
   ],
   "source": [
    "time[peaks]"
   ]
  },
  {
   "cell_type": "code",
   "execution_count": 9,
   "id": "c19ca7bc",
   "metadata": {},
   "outputs": [
    {
     "name": "stdout",
     "output_type": "stream",
     "text": [
      "Using matplotlib backend: Qt5Agg\n"
     ]
    },
    {
     "data": {
      "text/plain": [
       "[<matplotlib.lines.Line2D at 0x26b1931db08>]"
      ]
     },
     "execution_count": 9,
     "metadata": {},
     "output_type": "execute_result"
    }
   ],
   "source": [
    "%matplotlib\n",
    "plt.plot(time,ecg)\n",
    "plt.plot(time[peaks],ecg[peaks],marker=\"o\",ls=\"\",color='r')"
   ]
  },
  {
   "cell_type": "code",
   "execution_count": null,
   "id": "193bc515",
   "metadata": {},
   "outputs": [],
   "source": []
  }
 ],
 "metadata": {
  "kernelspec": {
   "display_name": "Python 3",
   "language": "python",
   "name": "python3"
  },
  "language_info": {
   "codemirror_mode": {
    "name": "ipython",
    "version": 3
   },
   "file_extension": ".py",
   "mimetype": "text/x-python",
   "name": "python",
   "nbconvert_exporter": "python",
   "pygments_lexer": "ipython3",
   "version": "3.7.10"
  }
 },
 "nbformat": 4,
 "nbformat_minor": 5
}
