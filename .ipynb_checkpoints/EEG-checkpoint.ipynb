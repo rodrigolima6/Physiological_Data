{
 "cells": [
  {
   "cell_type": "code",
   "execution_count": 7,
   "id": "9f3d543f",
   "metadata": {},
   "outputs": [],
   "source": [
    "import os\n",
    "import sys\n",
    "module_path = os.path.abspath(os.path.join('C:\\\\Users\\\\Rodrigo\\\\Desktop\\\\PhD\\\\1st Study'))\n",
    "if module_path not in sys.path:\n",
    "    sys.path.append(module_path)\n",
    "import matplotlib.pyplot as plt\n",
    "import biosignalsnotebooks as bsnb\n",
    "import numpy as np\n",
    "import import_ipynb\n",
    "from Load_Data import *"
   ]
  },
  {
   "cell_type": "code",
   "execution_count": 8,
   "id": "dade05e9",
   "metadata": {},
   "outputs": [],
   "source": [
    "EEG_filtered={}\n",
    "\n",
    "for keys in EEG.keys():\n",
    "    EEG_shift = EEG[keys]-np.mean(EEG[keys])\n",
    "    EEG_filtered[keys] = bsnb.bandpass(EEG_shift,3,38,order=2,fs=EEG_fs)"
   ]
  },
  {
   "cell_type": "code",
   "execution_count": 16,
   "id": "08f45ab3",
   "metadata": {},
   "outputs": [],
   "source": [
    "freq_axis = {}\n",
    "power_spect={}\n",
    "for keys in EEG_filtered.keys():\n",
    "    freq_axis[keys],power_spect[keys] = bsnb.plotfft(EEG_filtered[keys],EEG_fs)"
   ]
  },
  {
   "cell_type": "code",
   "execution_count": 17,
   "id": "b2763eb5",
   "metadata": {},
   "outputs": [
    {
     "name": "stdout",
     "output_type": "stream",
     "text": [
      "Using matplotlib backend: Qt5Agg\n"
     ]
    }
   ],
   "source": [
    "%matplotlib\n",
    "for keys in freq_axis.keys():\n",
    "    plt.plot(freq_axis[keys],power_spect[keys])"
   ]
  },
  {
   "cell_type": "code",
   "execution_count": null,
   "id": "0274ef8f",
   "metadata": {},
   "outputs": [],
   "source": []
  }
 ],
 "metadata": {
  "kernelspec": {
   "display_name": "Python 3",
   "language": "python",
   "name": "python3"
  },
  "language_info": {
   "codemirror_mode": {
    "name": "ipython",
    "version": 3
   },
   "file_extension": ".py",
   "mimetype": "text/x-python",
   "name": "python",
   "nbconvert_exporter": "python",
   "pygments_lexer": "ipython3",
   "version": "3.7.10"
  }
 },
 "nbformat": 4,
 "nbformat_minor": 5
}
