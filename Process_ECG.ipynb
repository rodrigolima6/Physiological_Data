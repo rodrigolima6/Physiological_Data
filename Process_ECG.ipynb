{
 "cells": [
  {
   "cell_type": "code",
   "execution_count": 24,
   "id": "842dc9fe",
   "metadata": {},
   "outputs": [],
   "source": [
    "import import_ipynb\n",
    "import matplotlib.pyplot as plt\n",
    "plt.switch_backend('Qt5Agg')\n",
    "from Load_Data import *\n",
    "import numpy as np\n",
    "import biosignalsnotebooks as bsnb\n",
    "import novainstrumentation as ni\n",
    "import os\n",
    "import lib\n",
    "from lib.biosignals import *\n",
    "from lib.acquisition import *\n",
    "from lib.sensors import *\n",
    "import scipy as sc\n",
    "import json"
   ]
  },
  {
   "cell_type": "code",
   "execution_count": 13,
   "id": "2c9372c5",
   "metadata": {},
   "outputs": [],
   "source": [
    "sampling_rate = 1000\n",
    "resolution = 16"
   ]
  },
  {
   "cell_type": "code",
   "execution_count": 21,
   "id": "8a7b2a45",
   "metadata": {},
   "outputs": [],
   "source": [
    "sensor = ECG(CH1,sampling_rate,resolution)\n",
    "ecg = sensor.data\n",
    "fs = sensor.fs\n",
    "resolution = sensor.resolution"
   ]
  },
  {
   "cell_type": "code",
   "execution_count": 22,
   "id": "c1332352",
   "metadata": {},
   "outputs": [],
   "source": [
    "time=bsnb.generate_time(ecg,fs)"
   ]
  },
  {
   "cell_type": "code",
   "execution_count": 23,
   "id": "dded0e7d",
   "metadata": {},
   "outputs": [
    {
     "data": {
      "text/plain": [
       "46.4272"
      ]
     },
     "execution_count": 23,
     "metadata": {},
     "output_type": "execute_result"
    }
   ],
   "source": [
    "time[-1]/60 #minutes"
   ]
  },
  {
   "cell_type": "code",
   "execution_count": 26,
   "id": "801d9d4a",
   "metadata": {},
   "outputs": [],
   "source": [
    "peaks = ni.panthomkins.panthomkins(ecg,fs,8,30)"
   ]
  },
  {
   "cell_type": "code",
   "execution_count": 27,
   "id": "c19ca7bc",
   "metadata": {},
   "outputs": [
    {
     "ename": "TypeError",
     "evalue": "detectRPeaks() takes 1 positional argument but 3 were given",
     "output_type": "error",
     "traceback": [
      "\u001b[1;31m---------------------------------------------------------------------------\u001b[0m",
      "\u001b[1;31mTypeError\u001b[0m                                 Traceback (most recent call last)",
      "\u001b[1;32m<ipython-input-27-99ef78e024da>\u001b[0m in \u001b[0;36m<module>\u001b[1;34m\u001b[0m\n\u001b[1;32m----> 1\u001b[1;33m \u001b[0mx\u001b[0m\u001b[1;33m=\u001b[0m\u001b[0msensor\u001b[0m\u001b[1;33m.\u001b[0m\u001b[0mdetectRPeaks\u001b[0m\u001b[1;33m(\u001b[0m\u001b[0mecg\u001b[0m\u001b[1;33m,\u001b[0m\u001b[0mfs\u001b[0m\u001b[1;33m)\u001b[0m\u001b[1;33m\u001b[0m\u001b[1;33m\u001b[0m\u001b[0m\n\u001b[0m",
      "\u001b[1;31mTypeError\u001b[0m: detectRPeaks() takes 1 positional argument but 3 were given"
     ]
    }
   ],
   "source": [
    "x=sensor.detectRPeaks(ecg,fs)"
   ]
  },
  {
   "cell_type": "code",
   "execution_count": null,
   "id": "193bc515",
   "metadata": {},
   "outputs": [],
   "source": []
  }
 ],
 "metadata": {
  "kernelspec": {
   "display_name": "Python 3",
   "language": "python",
   "name": "python3"
  },
  "language_info": {
   "codemirror_mode": {
    "name": "ipython",
    "version": 3
   },
   "file_extension": ".py",
   "mimetype": "text/x-python",
   "name": "python",
   "nbconvert_exporter": "python",
   "pygments_lexer": "ipython3",
   "version": "3.7.10"
  }
 },
 "nbformat": 4,
 "nbformat_minor": 5
}
